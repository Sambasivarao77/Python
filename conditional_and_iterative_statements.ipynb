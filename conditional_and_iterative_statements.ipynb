{
  "nbformat": 4,
  "nbformat_minor": 0,
  "metadata": {
    "colab": {
      "name": "conditional_and_iterative_statements.ipynb",
      "provenance": [],
      "authorship_tag": "ABX9TyOjnq4FuDKMzaF8NgWm/o+0",
      "include_colab_link": true
    },
    "kernelspec": {
      "name": "python3",
      "display_name": "Python 3"
    },
    "language_info": {
      "name": "python"
    }
  },
  "cells": [
    {
      "cell_type": "markdown",
      "metadata": {
        "id": "view-in-github",
        "colab_type": "text"
      },
      "source": [
        "<a href=\"https://colab.research.google.com/github/Sambasivarao77/Python/blob/main/conditional_and_iterative_statements.ipynb\" target=\"_parent\"><img src=\"https://colab.research.google.com/assets/colab-badge.svg\" alt=\"Open In Colab\"/></a>"
      ]
    },
    {
      "cell_type": "markdown",
      "metadata": {
        "id": "N6VTYPCvndE7"
      },
      "source": [
        "**Conditional statements**"
      ]
    },
    {
      "cell_type": "code",
      "metadata": {
        "colab": {
          "base_uri": "https://localhost:8080/"
        },
        "id": "OfSJKxQcngrb",
        "outputId": "725ada6c-ee9b-4e07-8c7c-c4b6ea002671"
      },
      "source": [
        "# write a program to tell the given number even/odd\n",
        "number = int(input(\"Enter a number \"))\n",
        "if number%2 == 0:\n",
        "  print(\"It is even number\")\n",
        "else:\n",
        "  print(\"It is odd number\") "
      ],
      "execution_count": null,
      "outputs": [
        {
          "output_type": "stream",
          "text": [
            "Enter a number 7\n",
            "It is odd number\n"
          ],
          "name": "stdout"
        }
      ]
    },
    {
      "cell_type": "code",
      "metadata": {
        "colab": {
          "base_uri": "https://localhost:8080/"
        },
        "id": "Ilvad-XwokCB",
        "outputId": "67dbb007-165d-43c1-9536-e9d3bc9dffb1"
      },
      "source": [
        "# write a program to return merit level based on the subject marks => Distinction/First class/Second class/ Just Pass/ Fail\n",
        "marks_percentage = float(input(\"ENter marks percentage \"))\n",
        "if marks_percentage >= 70:\n",
        "  print(\"You passed in Distinction\")\n",
        "elif marks_percentage >=60:\n",
        "  print(\"You passed in First calss\")\n",
        "elif marks_percentage >=50:\n",
        "  print(\"You passed in second class\")\n",
        "elif marks_percentage >=35:\n",
        "  print(\"You are passed\")\n",
        "else:\n",
        "  print(\"Failed\")"
      ],
      "execution_count": null,
      "outputs": [
        {
          "output_type": "stream",
          "text": [
            "ENter marks percentage 77\n",
            "You passed in Distinction\n"
          ],
          "name": "stdout"
        }
      ]
    },
    {
      "cell_type": "markdown",
      "metadata": {
        "id": "swJPsxjqrADt"
      },
      "source": [
        "**Iterative statements**"
      ]
    },
    {
      "cell_type": "code",
      "metadata": {
        "colab": {
          "base_uri": "https://localhost:8080/"
        },
        "id": "It6apw82rEu8",
        "outputId": "baac4049-88e2-4eae-837d-5b261ed17bcc"
      },
      "source": [
        "expenses = [23000,25000,23456,25346,27777,18288,28285]\n",
        "total_expenses = 0\n",
        "for expense in expenses:\n",
        "  total_expenses += expense\n",
        "print(total_expenses) \n"
      ],
      "execution_count": null,
      "outputs": [
        {
          "output_type": "stream",
          "text": [
            "171152\n"
          ],
          "name": "stdout"
        }
      ]
    },
    {
      "cell_type": "code",
      "metadata": {
        "colab": {
          "base_uri": "https://localhost:8080/"
        },
        "id": "60VpaoyIsrzK",
        "outputId": "b93fae6e-d88a-420a-e177-b0a28815f1fd"
      },
      "source": [
        "for i in range(10):\n",
        "  print(i,end=\" \")"
      ],
      "execution_count": null,
      "outputs": [
        {
          "output_type": "stream",
          "text": [
            "0 1 2 3 4 5 6 7 8 9 "
          ],
          "name": "stdout"
        }
      ]
    },
    {
      "cell_type": "code",
      "metadata": {
        "colab": {
          "base_uri": "https://localhost:8080/"
        },
        "id": "rI5bMsDUsyRe",
        "outputId": "98deb56b-8386-4478-c8bf-cfecb7053ea1"
      },
      "source": [
        "for i in range(len(expenses)):\n",
        "  print(\"Month \",(i+1),\" expense : \",expenses[i])"
      ],
      "execution_count": null,
      "outputs": [
        {
          "output_type": "stream",
          "text": [
            "Month  1  expense :  23000\n",
            "Month  2  expense :  25000\n",
            "Month  3  expense :  23456\n",
            "Month  4  expense :  25346\n",
            "Month  5  expense :  27777\n",
            "Month  6  expense :  18288\n",
            "Month  7  expense :  28285\n"
          ],
          "name": "stdout"
        }
      ]
    },
    {
      "cell_type": "code",
      "metadata": {
        "colab": {
          "base_uri": "https://localhost:8080/"
        },
        "id": "EsxRm9HltPnH",
        "outputId": "11c430fb-e263-4fe7-fc35-dc2efe277601"
      },
      "source": [
        "i = 0\n",
        "while i<10:\n",
        "  i+=1\n",
        "  print(i,end=\" \")"
      ],
      "execution_count": null,
      "outputs": [
        {
          "output_type": "stream",
          "text": [
            "1 2 3 4 5 6 7 8 9 10 "
          ],
          "name": "stdout"
        }
      ]
    }
  ]
}