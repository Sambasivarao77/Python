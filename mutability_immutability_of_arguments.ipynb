{
  "nbformat": 4,
  "nbformat_minor": 0,
  "metadata": {
    "colab": {
      "name": "mutability_immutability_of_arguments.ipynb",
      "provenance": [],
      "authorship_tag": "ABX9TyORx0H+XpV2ZzqvZ9H0Q6xC",
      "include_colab_link": true
    },
    "kernelspec": {
      "name": "python3",
      "display_name": "Python 3"
    },
    "language_info": {
      "name": "python"
    }
  },
  "cells": [
    {
      "cell_type": "markdown",
      "metadata": {
        "id": "view-in-github",
        "colab_type": "text"
      },
      "source": [
        "<a href=\"https://colab.research.google.com/github/Sambasivarao77/Python/blob/main/mutability_immutability_of_arguments.ipynb\" target=\"_parent\"><img src=\"https://colab.research.google.com/assets/colab-badge.svg\" alt=\"Open In Colab\"/></a>"
      ]
    },
    {
      "cell_type": "markdown",
      "metadata": {
        "id": "TKdqDCtUzSH_"
      },
      "source": [
        "**Mutability and Immutablity of function arguments**  \n",
        "**Immutable objects :** Built-in objectcs like below  \n",
        "       int, float, bool, string, tuple\n",
        "\n",
        "**Mutable objects :** List, dict, set"
      ]
    },
    {
      "cell_type": "code",
      "metadata": {
        "colab": {
          "base_uri": "https://localhost:8080/"
        },
        "id": "iw2lKyKSn9K5",
        "outputId": "f15ae7a4-125b-4804-ac9d-b4bf235efc74"
      },
      "source": [
        "\n",
        "def f(a):\n",
        "  a += 1 \n",
        "  print(\"a in function : \",a)\n",
        "\n",
        "a = 10\n",
        "f(a)\n",
        "print(\"a outside function :\",a)\n",
        "\n",
        "#since int object is immutable it can't be changed in the function\n"
      ],
      "execution_count": 1,
      "outputs": [
        {
          "output_type": "stream",
          "text": [
            "a in function :  11\n",
            "a outside function : 10\n"
          ],
          "name": "stdout"
        }
      ]
    },
    {
      "cell_type": "code",
      "metadata": {
        "colab": {
          "base_uri": "https://localhost:8080/"
        },
        "id": "TCWZ2BPcokUP",
        "outputId": "1493a6ad-fcee-488a-b9d9-2a75021ed67f"
      },
      "source": [
        "def func(lst):\n",
        "  lst[1] = 77\n",
        "  print(\"lst in function  : \",lst)\n",
        "\n",
        "lstt = [1,2,3,4]\n",
        "func(lstt)\n",
        "print(\"lstt out side function : \",lstt)\n",
        "# list mutable so update in function could effect the main list as well."
      ],
      "execution_count": 2,
      "outputs": [
        {
          "output_type": "stream",
          "text": [
            "lst in function  :  [1, 77, 3, 4]\n",
            "lstt out side function :  [1, 77, 3, 4]\n"
          ],
          "name": "stdout"
        }
      ]
    }
  ]
}