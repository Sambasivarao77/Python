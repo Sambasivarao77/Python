{
  "nbformat": 4,
  "nbformat_minor": 0,
  "metadata": {
    "colab": {
      "name": "__name__.ipynb",
      "provenance": [],
      "authorship_tag": "ABX9TyNer1F+cbZ2tIuxSv60M2Hg",
      "include_colab_link": true
    },
    "kernelspec": {
      "name": "python3",
      "display_name": "Python 3"
    },
    "language_info": {
      "name": "python"
    }
  },
  "cells": [
    {
      "cell_type": "markdown",
      "metadata": {
        "id": "view-in-github",
        "colab_type": "text"
      },
      "source": [
        "<a href=\"https://colab.research.google.com/github/Sambasivarao77/Python/blob/main/__name__.ipynb\" target=\"_parent\"><img src=\"https://colab.research.google.com/assets/colab-badge.svg\" alt=\"Open In Colab\"/></a>"
      ]
    },
    {
      "cell_type": "markdown",
      "metadata": {
        "id": "M8t22TSrH1aa"
      },
      "source": [
        "`__name__` the default value value of `__name__` is `__main__`. \n",
        "\n",
        "If we invoke the python file from another file then `__name__` will be the file name without .py extension. "
      ]
    },
    {
      "cell_type": "code",
      "metadata": {
        "colab": {
          "base_uri": "https://localhost:8080/",
          "height": 36
        },
        "id": "1GjB8U_eHyZg",
        "outputId": "745fdab2-9714-4806-b9da-3e3a21354372"
      },
      "source": [
        "__name__"
      ],
      "execution_count": 5,
      "outputs": [
        {
          "output_type": "execute_result",
          "data": {
            "application/vnd.google.colaboratory.intrinsic+json": {
              "type": "string"
            },
            "text/plain": [
              "'__main__'"
            ]
          },
          "metadata": {
            "tags": []
          },
          "execution_count": 5
        }
      ]
    },
    {
      "cell_type": "code",
      "metadata": {
        "colab": {
          "base_uri": "https://localhost:8080/"
        },
        "id": "Ar4WqeB2GFUX",
        "outputId": "350922b5-16cf-40d4-adbd-5f90b8fa1505"
      },
      "source": [
        "#assume this code is in area.py\n",
        "def calculate_area(base, height):\n",
        "  print(\"__name_ = \",__name__)\n",
        "  return 1/2*(base*height)\n",
        "\n",
        "if __name__==\"__main__\":\n",
        "  print(\"I am in area.py\")\n",
        "  print(\"area : \",calculate_area(10,12))\n"
      ],
      "execution_count": 2,
      "outputs": [
        {
          "output_type": "stream",
          "text": [
            "I am in area.py\n",
            "__name_ =  __main__\n",
            "area :  60.0\n"
          ],
          "name": "stdout"
        }
      ]
    },
    {
      "cell_type": "markdown",
      "metadata": {
        "id": "_vKxaSKFHpdX"
      },
      "source": [
        "Assume the below code is in caller.py  \n",
        "`import area`     \n",
        "`print(\"I am in caller.py\")`  \n",
        "`print(\"area : \",calculate_area(10,12))`"
      ]
    },
    {
      "cell_type": "markdown",
      "metadata": {
        "id": "mcMH-R_HJA-s"
      },
      "source": [
        "Then output of `pythoon caller.py` is like below  \n",
        "`I am in caller.py`  \n",
        "`__name__ = area`  \n",
        "`area : 60.0`"
      ]
    }
  ]
}