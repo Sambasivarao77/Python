{
  "nbformat": 4,
  "nbformat_minor": 0,
  "metadata": {
    "colab": {
      "name": "multiprocessing.ipynb",
      "provenance": [],
      "authorship_tag": "ABX9TyM6f1CIELJX2iMERNXR4jI9",
      "include_colab_link": true
    },
    "kernelspec": {
      "name": "python3",
      "display_name": "Python 3"
    },
    "language_info": {
      "name": "python"
    }
  },
  "cells": [
    {
      "cell_type": "markdown",
      "metadata": {
        "id": "view-in-github",
        "colab_type": "text"
      },
      "source": [
        "<a href=\"https://colab.research.google.com/github/Sambasivarao77/Python/blob/main/multiprocessing.ipynb\" target=\"_parent\"><img src=\"https://colab.research.google.com/assets/colab-badge.svg\" alt=\"Open In Colab\"/></a>"
      ]
    },
    {
      "cell_type": "code",
      "metadata": {
        "colab": {
          "base_uri": "https://localhost:8080/"
        },
        "id": "ezyfMW4g4I1F",
        "outputId": "b4d82b88-c4bf-4a05-f8bb-a43a12ac05be"
      },
      "source": [
        "import time\n",
        "\n",
        "def calc_square():\n",
        "  for i in range(20000000):\n",
        "    i = i*i\n",
        "def calc_cube():\n",
        "  for i in range(20000000):\n",
        "    i = i*i*i\n",
        "\n",
        "t = time.time()\n",
        "calc_square()\n",
        "calc_cube()\n",
        "print(\"completed in \",time.time()-t)"
      ],
      "execution_count": 6,
      "outputs": [
        {
          "output_type": "stream",
          "text": [
            "completed in  3.7995593547821045\n"
          ],
          "name": "stdout"
        }
      ]
    },
    {
      "cell_type": "code",
      "metadata": {
        "colab": {
          "base_uri": "https://localhost:8080/"
        },
        "id": "dHsGGHfI6pSr",
        "outputId": "93637c87-f277-4afa-ffab-117cfb34f8a8"
      },
      "source": [
        "import multiprocessing\n",
        "import time\n",
        "\n",
        "def calc_square():\n",
        "  for i in range(20000000):\n",
        "    i = i*i\n",
        "def calc_cube():\n",
        "  for i in range(20000000):\n",
        "    i = i*i*i\n",
        "\n",
        "p1 = multiprocessing.Process(target=calc_square)\n",
        "p2 = multiprocessing.Process(target=calc_cube)\n",
        "t = time.time()\n",
        "p1.start()\n",
        "p2.start()\n",
        "p1.join()\n",
        "p2.join()\n",
        "print(\"completed in \",time.time()-t)"
      ],
      "execution_count": 11,
      "outputs": [
        {
          "output_type": "stream",
          "text": [
            "completed in  4.01476788520813\n"
          ],
          "name": "stdout"
        }
      ]
    },
    {
      "cell_type": "code",
      "metadata": {
        "colab": {
          "base_uri": "https://localhost:8080/"
        },
        "id": "bumS23f37lNP",
        "outputId": "9b6ed846-762d-4f1c-f332-08d5d077b383"
      },
      "source": [
        "#process have it's own memory spaces\n",
        "import time\n",
        "import multiprocessing\n",
        "\n",
        "share_result=[]\n",
        "\n",
        "def calc_squares(numbers):\n",
        "  global share_result\n",
        "  for number in numbers:\n",
        "    share_result.append(number*number)\n",
        "  print(\"with in process result = \"+str(share_result))\n",
        "\n",
        "arr = [1,2,3,4]\n",
        "p1 = multiprocessing.Process(target=calc_squares,args=(arr,))\n",
        "p1.start()\n",
        "p1.join()\n",
        "print(\"outside process result = \"+str(share_result))\n"
      ],
      "execution_count": 13,
      "outputs": [
        {
          "output_type": "stream",
          "text": [
            "with in process result = [1, 4, 9, 16]\n",
            "outside process result = []\n"
          ],
          "name": "stdout"
        }
      ]
    }
  ]
}