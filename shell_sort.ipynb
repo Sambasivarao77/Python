{
  "nbformat": 4,
  "nbformat_minor": 0,
  "metadata": {
    "colab": {
      "name": "shell sort.ipynb",
      "provenance": [],
      "authorship_tag": "ABX9TyOXZPTQRzWYaNgS6gjKwy7+",
      "include_colab_link": true
    },
    "kernelspec": {
      "name": "python3",
      "display_name": "Python 3"
    },
    "language_info": {
      "name": "python"
    }
  },
  "cells": [
    {
      "cell_type": "markdown",
      "metadata": {
        "id": "view-in-github",
        "colab_type": "text"
      },
      "source": [
        "<a href=\"https://colab.research.google.com/github/Sambasivarao77/Python/blob/main/shell_sort.ipynb\" target=\"_parent\"><img src=\"https://colab.research.google.com/assets/colab-badge.svg\" alt=\"Open In Colab\"/></a>"
      ]
    },
    {
      "cell_type": "code",
      "metadata": {
        "colab": {
          "base_uri": "https://localhost:8080/"
        },
        "id": "mn-qgixhY7G8",
        "outputId": "0f43fca3-aa56-4d71-b046-d446e05882e3"
      },
      "source": [
        "def shell_sort(arr):\n",
        "    size = len(arr)\n",
        "    gap = size//2\n",
        "\n",
        "    while gap > 0:\n",
        "        for i in range(gap,size):\n",
        "            anchor = arr[i]\n",
        "            j = i\n",
        "            while j>=gap and arr[j-gap]>anchor:\n",
        "                arr[j] = arr[j-gap]\n",
        "                j -= gap\n",
        "            arr[j] = anchor\n",
        "        gap = gap // 2\n",
        "\n",
        "def foo(arr):\n",
        "    size = len(arr)\n",
        "    gap = size // 2\n",
        "    gap = 3\n",
        "    for i in range(gap, size):\n",
        "        anchor = arr[i]\n",
        "        j = i\n",
        "        while j>=gap and arr[j-gap]>anchor:\n",
        "            arr[j] = arr[j-gap]\n",
        "            j -= gap\n",
        "        arr[j] = anchor\n",
        "\n",
        "if __name__ == '__main__':\n",
        "    tests = [\n",
        "        [89, 78, 61, 53, 23, 21, 17, 12, 9, 7, 6, 2, 1],\n",
        "        [],\n",
        "        [1,5,8,9],\n",
        "        [234,3,1,56,34,12,9,12,1300],\n",
        "        [5]\n",
        "    ]\n",
        "    elements = [89,78,61,53,23,21,17,12,9,7,6,2,1]\n",
        "    for elements in tests:\n",
        "        shell_sort(elements)\n",
        "        print(elements)"
      ],
      "execution_count": 1,
      "outputs": [
        {
          "output_type": "stream",
          "text": [
            "[1, 2, 6, 7, 9, 12, 17, 21, 23, 53, 61, 78, 89]\n",
            "[]\n",
            "[1, 5, 8, 9]\n",
            "[1, 3, 9, 12, 12, 34, 56, 234, 1300]\n",
            "[5]\n"
          ],
          "name": "stdout"
        }
      ]
    },
    {
      "cell_type": "code",
      "metadata": {
        "colab": {
          "base_uri": "https://localhost:8080/"
        },
        "id": "o51UDVxcZRIv",
        "outputId": "d1211699-5000-4367-96a3-7d96ae743e58"
      },
      "source": [
        "def shell_sort(arr):\n",
        "    n = len(arr)\n",
        "    div = 2\n",
        "    gap = n//div\n",
        "\n",
        "    while gap > 0:\n",
        "        index_to_delete = []\n",
        "        for i in range(gap,n):\n",
        "            anchor = arr[i]\n",
        "            j = i\n",
        "            while j>=gap and arr[j-gap]>=anchor:\n",
        "                if arr[j-gap] == anchor:\n",
        "                  index_to_delete.append(j)\n",
        "                arr[j] = arr[j-gap]\n",
        "                j -= gap\n",
        "            arr[j] = anchor\n",
        "        index_to_delete = list(set(index_to_delete))\n",
        "        index_to_delete.sort()\n",
        "        if index_to_delete:\n",
        "          for i in index_to_delete[-1::-1]:\n",
        "            del arr[i]\n",
        "        \n",
        "        div *=2    \n",
        "        n = len(arr)\n",
        "        gap = n // div\n",
        "\n",
        "if __name__ == '__main__':\n",
        "\n",
        "    elements = [2, 1, 5, 7, 2, 0, 5, 1, 2, 9, 5, 8, 3]\n",
        "    shell_sort(elements)\n",
        "    print(elements)"
      ],
      "execution_count": 14,
      "outputs": [
        {
          "output_type": "stream",
          "text": [
            "[0, 1, 2, 3, 5, 7, 8, 9]\n"
          ],
          "name": "stdout"
        }
      ]
    },
    {
      "cell_type": "code",
      "metadata": {
        "colab": {
          "base_uri": "https://localhost:8080/"
        },
        "id": "S4spLq-Te0b6",
        "outputId": "a2f121a0-e4b9-4419-b083-b1e940cf50b9"
      },
      "source": [
        "def shell_sort(arr):\n",
        "    n = len(arr)\n",
        "    div = 2\n",
        "    gap = n//div\n",
        "    while gap > 0:\n",
        "        index_to_delete = []\n",
        "        for i in range(gap, n):\n",
        "            temp = arr[i]\n",
        "            j = i\n",
        "            while j >= gap and arr[j-gap] >= temp:\n",
        "                if arr[j-gap] == temp:\n",
        "                    index_to_delete.append(j)\n",
        "                arr[j] = arr[j-gap]\n",
        "                j -= gap\n",
        "            arr[j] = temp\n",
        "        index_to_delete=list(set(index_to_delete))\n",
        "        index_to_delete.sort()\n",
        "        if index_to_delete:\n",
        "            for i in index_to_delete[-1::-1]:\n",
        "                del arr[i]\n",
        "        div *= 2\n",
        "        n = len(arr)\n",
        "        gap = n//div\n",
        "\n",
        "\n",
        "if __name__ == '__main__':\n",
        "    elements = [2, 1, 5, 7, 2, 0, 5, 1, 2, 9,  5, 8, 3]\n",
        "\n",
        "    print(f'Given unsorted list: {elements}')\n",
        "    shell_sort(elements)\n",
        "    print(f'List after Sorting : {elements}')"
      ],
      "execution_count": 13,
      "outputs": [
        {
          "output_type": "stream",
          "text": [
            "Given unsorted list: [2, 1, 5, 7, 2, 0, 5, 1, 2, 9, 5, 8, 3]\n",
            "List after Sorting : [0, 1, 2, 3, 5, 7, 8, 9]\n"
          ],
          "name": "stdout"
        }
      ]
    }
  ]
}