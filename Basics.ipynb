{
  "nbformat": 4,
  "nbformat_minor": 0,
  "metadata": {
    "colab": {
      "name": "Basics.ipynb",
      "provenance": [],
      "authorship_tag": "ABX9TyOC0Ift3U9RINkbg0Le64BV",
      "include_colab_link": true
    },
    "kernelspec": {
      "name": "python3",
      "display_name": "Python 3"
    },
    "language_info": {
      "name": "python"
    }
  },
  "cells": [
    {
      "cell_type": "markdown",
      "metadata": {
        "id": "view-in-github",
        "colab_type": "text"
      },
      "source": [
        "<a href=\"https://colab.research.google.com/github/Sambasivarao77/Python/blob/main/Basics.ipynb\" target=\"_parent\"><img src=\"https://colab.research.google.com/assets/colab-badge.svg\" alt=\"Open In Colab\"/></a>"
      ]
    },
    {
      "cell_type": "markdown",
      "metadata": {
        "id": "LQy4_DvaSM09"
      },
      "source": [
        "**Why to learn Python**\n",
        "\n",
        "* Code development speed\n",
        "* Compact easy to remeber syntax\n",
        "* No compilation\n",
        "* Library (or module) for everything\n",
        "* Used heavily in Data science, ML and Scientific computing\n",
        "* Plenty of Job opportuniites "
      ]
    },
    {
      "cell_type": "markdown",
      "metadata": {
        "id": "muua5AuoU68d"
      },
      "source": [
        "**Variables**\n",
        "\n",
        "Variables are called variables because the values in these can vary."
      ]
    },
    {
      "cell_type": "code",
      "metadata": {
        "colab": {
          "base_uri": "https://localhost:8080/"
        },
        "id": "K0qd-imbU-mp",
        "outputId": "f5e3cf54-2554-4f18-84a0-4c3508a00af9"
      },
      "source": [
        "rice = 1200\n",
        "rent = 6000\n",
        "gas = 650\n",
        "total = rice + rent + gas\n",
        "print(total)"
      ],
      "execution_count": 1,
      "outputs": [
        {
          "output_type": "stream",
          "text": [
            "7850\n"
          ],
          "name": "stdout"
        }
      ]
    },
    {
      "cell_type": "code",
      "metadata": {
        "id": "sxteMJRnWDde",
        "outputId": "232e7c62-07c2-4bd0-8934-b4191eac86ca",
        "colab": {
          "base_uri": "https://localhost:8080/"
        }
      },
      "source": [
        "print(\"rent = \",rent,\" , rice = \",rice,\" and gas = \",gas, end = \".\")"
      ],
      "execution_count": 4,
      "outputs": [
        {
          "output_type": "stream",
          "text": [
            "rent =  6000  , rice =  1200  and gas =  650."
          ],
          "name": "stdout"
        }
      ]
    },
    {
      "cell_type": "code",
      "metadata": {
        "id": "6t639DCgWWha",
        "outputId": "7cabd88f-da43-4239-e5de-d4b065c06c3b",
        "colab": {
          "base_uri": "https://localhost:8080/"
        }
      },
      "source": [
        "name = \"Samba\"\n",
        "print(name)"
      ],
      "execution_count": 5,
      "outputs": [
        {
          "output_type": "stream",
          "text": [
            "Samba\n"
          ],
          "name": "stdout"
        }
      ]
    },
    {
      "cell_type": "code",
      "metadata": {
        "id": "FvXzmeKOXCg5",
        "outputId": "7410b834-e82a-41f8-e491-92cc53eb51a0",
        "colab": {
          "base_uri": "https://localhost:8080/"
        }
      },
      "source": [
        "share_price = 141.4\n",
        "print(share_price)"
      ],
      "execution_count": 9,
      "outputs": [
        {
          "output_type": "stream",
          "text": [
            "141.4\n"
          ],
          "name": "stdout"
        }
      ]
    },
    {
      "cell_type": "markdown",
      "metadata": {
        "id": "7i6isLa0XP6c"
      },
      "source": [
        "**Numbers**"
      ]
    },
    {
      "cell_type": "code",
      "metadata": {
        "id": "b_u4XMHYXTex",
        "outputId": "73c33e9e-4050-478e-aa6f-0e592a4b98e2",
        "colab": {
          "base_uri": "https://localhost:8080/"
        }
      },
      "source": [
        "print(2+2)\n",
        "print(2-1)\n",
        "print(2*3)\n",
        "print(6/2)"
      ],
      "execution_count": 10,
      "outputs": [
        {
          "output_type": "stream",
          "text": [
            "4\n",
            "1\n",
            "6\n",
            "3.0\n"
          ],
          "name": "stdout"
        }
      ]
    },
    {
      "cell_type": "code",
      "metadata": {
        "id": "djsn7OKgZIQT",
        "outputId": "1030efbd-20c3-4f80-ea91-f50f5d3519e7",
        "colab": {
          "base_uri": "https://localhost:8080/"
        }
      },
      "source": [
        "print(2**3)\n",
        "print(7%2)\n",
        "print(7//3)\n",
        "float_value = 7.123076\n",
        "print(round(float_value,2))\n",
        "print(round(float_value,3))\n",
        "print(round(float_value,4)) # this will not just print and rounds the number"
      ],
      "execution_count": 21,
      "outputs": [
        {
          "output_type": "stream",
          "text": [
            "8\n",
            "1\n",
            "2\n",
            "7.12\n",
            "7.123\n",
            "7.1231\n"
          ],
          "name": "stdout"
        }
      ]
    },
    {
      "cell_type": "code",
      "metadata": {
        "id": "s8WJ1-MZaFy7",
        "outputId": "9b286ca2-d2ba-456a-c7c0-b6bdef5dae2e",
        "colab": {
          "base_uri": "https://localhost:8080/"
        }
      },
      "source": [
        "print(6-5.4)\n",
        "print(6-5.7)  # the result is like below because of floating point representation "
      ],
      "execution_count": 25,
      "outputs": [
        {
          "output_type": "stream",
          "text": [
            "0.5999999999999996\n",
            "0.2999999999999998\n"
          ],
          "name": "stdout"
        }
      ]
    },
    {
      "cell_type": "code",
      "metadata": {
        "id": "u78b18eyanBT",
        "outputId": "2b3646d4-f0a8-4019-a93e-f040a9218ca9",
        "colab": {
          "base_uri": "https://localhost:8080/"
        }
      },
      "source": [
        "print(round(6-5.4,2))\n",
        "print(round(6-5.7,1))"
      ],
      "execution_count": 27,
      "outputs": [
        {
          "output_type": "stream",
          "text": [
            "0.6\n",
            "0.3\n"
          ],
          "name": "stdout"
        }
      ]
    },
    {
      "cell_type": "markdown",
      "metadata": {
        "id": "43d9rOmVa6gs"
      },
      "source": [
        "**Strings**"
      ]
    },
    {
      "cell_type": "code",
      "metadata": {
        "id": "_p1arW2Ua47B",
        "outputId": "74487b73-9992-4856-cacc-da545a4518b0",
        "colab": {
          "base_uri": "https://localhost:8080/"
        }
      },
      "source": [
        "text = \"ice cream is not good for health\"\n",
        "print(text)"
      ],
      "execution_count": 28,
      "outputs": [
        {
          "output_type": "stream",
          "text": [
            "ice cream is not good for health\n"
          ],
          "name": "stdout"
        }
      ]
    },
    {
      "cell_type": "code",
      "metadata": {
        "id": "CqS1vMHlbby9",
        "outputId": "20bfdff7-9817-456f-ac1a-f8d271477851",
        "colab": {
          "base_uri": "https://localhost:8080/"
        }
      },
      "source": [
        "print(text[0])\n",
        "print(text[7])"
      ],
      "execution_count": 29,
      "outputs": [
        {
          "output_type": "stream",
          "text": [
            "i\n",
            "a\n"
          ],
          "name": "stdout"
        }
      ]
    },
    {
      "cell_type": "code",
      "metadata": {
        "id": "dbrb8l1hbiFU",
        "outputId": "da19e65a-2756-4411-c935-3e62067f544d",
        "colab": {
          "base_uri": "https://localhost:8080/",
          "height": 193
        }
      },
      "source": [
        "#can read characters from str but cannot modify\n",
        "text[2] = 'a'"
      ],
      "execution_count": 31,
      "outputs": [
        {
          "output_type": "error",
          "ename": "TypeError",
          "evalue": "ignored",
          "traceback": [
            "\u001b[0;31m---------------------------------------------------------------------------\u001b[0m",
            "\u001b[0;31mTypeError\u001b[0m                                 Traceback (most recent call last)",
            "\u001b[0;32m<ipython-input-31-844305cd2421>\u001b[0m in \u001b[0;36m<module>\u001b[0;34m()\u001b[0m\n\u001b[1;32m      1\u001b[0m \u001b[0;31m#can read characters from str but cannot modify\u001b[0m\u001b[0;34m\u001b[0m\u001b[0;34m\u001b[0m\u001b[0;34m\u001b[0m\u001b[0m\n\u001b[0;32m----> 2\u001b[0;31m \u001b[0mtext\u001b[0m\u001b[0;34m[\u001b[0m\u001b[0;36m2\u001b[0m\u001b[0;34m]\u001b[0m \u001b[0;34m=\u001b[0m \u001b[0;34m'a'\u001b[0m\u001b[0;34m\u001b[0m\u001b[0;34m\u001b[0m\u001b[0m\n\u001b[0m",
            "\u001b[0;31mTypeError\u001b[0m: 'str' object does not support item assignment"
          ]
        }
      ]
    },
    {
      "cell_type": "code",
      "metadata": {
        "id": "yTJTd40JbvFq",
        "outputId": "65b65067-783c-482b-c0a9-68d69347932d",
        "colab": {
          "base_uri": "https://localhost:8080/"
        }
      },
      "source": [
        "print(text[0:3])"
      ],
      "execution_count": 32,
      "outputs": [
        {
          "output_type": "stream",
          "text": [
            "ice\n"
          ],
          "name": "stdout"
        }
      ]
    },
    {
      "cell_type": "code",
      "metadata": {
        "id": "GjoPafn3bzQE",
        "outputId": "5fc85bf6-4693-49f8-9361-4d07b692f589",
        "colab": {
          "base_uri": "https://localhost:8080/"
        }
      },
      "source": [
        "print(text[4:])"
      ],
      "execution_count": 33,
      "outputs": [
        {
          "output_type": "stream",
          "text": [
            "cream is not good for health\n"
          ],
          "name": "stdout"
        }
      ]
    },
    {
      "cell_type": "code",
      "metadata": {
        "id": "pZVBPgCrb94V",
        "outputId": "8748ff5c-d480-47d0-f137-132e4bf57281",
        "colab": {
          "base_uri": "https://localhost:8080/"
        }
      },
      "source": [
        "print(text[:])"
      ],
      "execution_count": 34,
      "outputs": [
        {
          "output_type": "stream",
          "text": [
            "ice cream is not good for health\n"
          ],
          "name": "stdout"
        }
      ]
    },
    {
      "cell_type": "code",
      "metadata": {
        "id": "_DbTFikpcHaV"
      },
      "source": [
        "text = 'hello' # and\n",
        "text = \"hello\" # both are same"
      ],
      "execution_count": 36,
      "outputs": []
    },
    {
      "cell_type": "markdown",
      "metadata": {
        "id": "T4kQGQDcc9xW"
      },
      "source": [
        "**Lists**"
      ]
    },
    {
      "cell_type": "code",
      "metadata": {
        "id": "P9cSv5qAc_ol",
        "outputId": "c1312548-9df7-4bf4-b6e1-e8740c0af0fa",
        "colab": {
          "base_uri": "https://localhost:8080/"
        }
      },
      "source": [
        "items = [\"rice\",\"gas\",'rent',6500,2.34,'s']\n",
        "print(items)"
      ],
      "execution_count": 42,
      "outputs": [
        {
          "output_type": "stream",
          "text": [
            "['rice', 'gas', 'rent', 6500, 2.34, 's']\n"
          ],
          "name": "stdout"
        }
      ]
    },
    {
      "cell_type": "code",
      "metadata": {
        "id": "nWPCsgaJdgKB",
        "outputId": "9dc115dd-e7b5-4264-e540-89438acf0371",
        "colab": {
          "base_uri": "https://localhost:8080/"
        }
      },
      "source": [
        "print(items[4])"
      ],
      "execution_count": 43,
      "outputs": [
        {
          "output_type": "stream",
          "text": [
            "2.34\n"
          ],
          "name": "stdout"
        }
      ]
    },
    {
      "cell_type": "code",
      "metadata": {
        "id": "bDnLe5FSdlun",
        "outputId": "238d5d9e-594d-45dd-dbb3-e0a2ad114ed9",
        "colab": {
          "base_uri": "https://localhost:8080/"
        }
      },
      "source": [
        "items[0] = \"brown_rice\"\n",
        "items.append('s')\n",
        "print(items)"
      ],
      "execution_count": 44,
      "outputs": [
        {
          "output_type": "stream",
          "text": [
            "['brown_rice', 'gas', 'rent', 6500, 2.34, 's', 's']\n"
          ],
          "name": "stdout"
        }
      ]
    },
    {
      "cell_type": "code",
      "metadata": {
        "id": "CnOl7IYheC5n",
        "outputId": "87e92257-789f-4738-c486-e85f7332cb1e",
        "colab": {
          "base_uri": "https://localhost:8080/"
        }
      },
      "source": [
        "print(items[-1])"
      ],
      "execution_count": 46,
      "outputs": [
        {
          "output_type": "stream",
          "text": [
            "s\n"
          ],
          "name": "stdout"
        }
      ]
    },
    {
      "cell_type": "code",
      "metadata": {
        "id": "f_jlboXTeWoz",
        "outputId": "8f33ffca-c911-4b2f-aa13-f1d84f22c35e",
        "colab": {
          "base_uri": "https://localhost:8080/"
        }
      },
      "source": [
        "items.insert(1,'rice')\n",
        "print(items)"
      ],
      "execution_count": 48,
      "outputs": [
        {
          "output_type": "stream",
          "text": [
            "['brown_rice', 'rice', 'rice', 'gas', 'rent', 6500, 2.34, 's', 's']\n"
          ],
          "name": "stdout"
        }
      ]
    },
    {
      "cell_type": "code",
      "metadata": {
        "id": "bFzfqAzpe_yy",
        "outputId": "7086bf5c-d038-4c8b-a384-ef4a7c8b736a",
        "colab": {
          "base_uri": "https://localhost:8080/"
        }
      },
      "source": [
        "\"rice\" in items"
      ],
      "execution_count": 53,
      "outputs": [
        {
          "output_type": "execute_result",
          "data": {
            "text/plain": [
              "True"
            ]
          },
          "metadata": {
            "tags": []
          },
          "execution_count": 53
        }
      ]
    },
    {
      "cell_type": "code",
      "metadata": {
        "id": "ilqtRINzfH5Z",
        "outputId": "a7aa1f25-ccd1-456f-c6c2-7ca24121a63a",
        "colab": {
          "base_uri": "https://localhost:8080/"
        }
      },
      "source": [
        "\"rice \" in items"
      ],
      "execution_count": 55,
      "outputs": [
        {
          "output_type": "execute_result",
          "data": {
            "text/plain": [
              "False"
            ]
          },
          "metadata": {
            "tags": []
          },
          "execution_count": 55
        }
      ]
    },
    {
      "cell_type": "code",
      "metadata": {
        "id": "FuzZHatce0Tm",
        "outputId": "c193126a-bbe0-47be-b4ab-79e805840242",
        "colab": {
          "base_uri": "https://localhost:8080/"
        }
      },
      "source": [
        "print(len(items))"
      ],
      "execution_count": 49,
      "outputs": [
        {
          "output_type": "stream",
          "text": [
            "9\n"
          ],
          "name": "stdout"
        }
      ]
    },
    {
      "cell_type": "markdown",
      "metadata": {
        "id": "d5_VOEEdfqrz"
      },
      "source": [
        "**Dictionaries**"
      ]
    },
    {
      "cell_type": "code",
      "metadata": {
        "id": "eErxizwtfpX9",
        "outputId": "8faf8f41-6da7-465f-835a-cd45425f5fc0",
        "colab": {
          "base_uri": "https://localhost:8080/"
        }
      },
      "source": [
        "dt = {\"key\":\"value\",\"name\":\"roll number\",\"Shiva\":502,\"Sathwik\":520}\n",
        "print(dt)"
      ],
      "execution_count": 56,
      "outputs": [
        {
          "output_type": "stream",
          "text": [
            "{'key': 'value', 'name': 'roll number', 'Shiva': 502, 'Sathwik': 520}\n"
          ],
          "name": "stdout"
        }
      ]
    },
    {
      "cell_type": "code",
      "metadata": {
        "id": "oR7LzL6igQH2",
        "outputId": "f253f433-4e25-4aaf-a2a3-bd04f3edb457",
        "colab": {
          "base_uri": "https://localhost:8080/"
        }
      },
      "source": [
        "dt[\"Shiva\"]"
      ],
      "execution_count": 58,
      "outputs": [
        {
          "output_type": "execute_result",
          "data": {
            "text/plain": [
              "502"
            ]
          },
          "metadata": {
            "tags": []
          },
          "execution_count": 58
        }
      ]
    },
    {
      "cell_type": "code",
      "metadata": {
        "id": "hiRGwYk2gVMy",
        "outputId": "5842815c-e948-4574-864b-d01af0127e70",
        "colab": {
          "base_uri": "https://localhost:8080/"
        }
      },
      "source": [
        "dt[\"Samba\"] = 523\n",
        "print(dt)"
      ],
      "execution_count": 59,
      "outputs": [
        {
          "output_type": "stream",
          "text": [
            "{'key': 'value', 'name': 'roll number', 'Shiva': 502, 'Sathwik': 520, 'Samba': 523}\n"
          ],
          "name": "stdout"
        }
      ]
    },
    {
      "cell_type": "code",
      "metadata": {
        "id": "MqpPfZSFgrIL",
        "outputId": "92eae6f4-51e3-48bd-b730-69d3f413c64b",
        "colab": {
          "base_uri": "https://localhost:8080/"
        }
      },
      "source": [
        "del dt[\"Samba\"]\n",
        "print(dt)"
      ],
      "execution_count": 60,
      "outputs": [
        {
          "output_type": "stream",
          "text": [
            "{'key': 'value', 'name': 'roll number', 'Shiva': 502, 'Sathwik': 520}\n"
          ],
          "name": "stdout"
        }
      ]
    },
    {
      "cell_type": "code",
      "metadata": {
        "id": "srR6P3nXg7gq",
        "outputId": "7d3eb565-c8d5-43a7-8b28-5cfcc3a48bc0",
        "colab": {
          "base_uri": "https://localhost:8080/",
          "height": 174
        }
      },
      "source": [
        "del dt[\"Samba\"]"
      ],
      "execution_count": 61,
      "outputs": [
        {
          "output_type": "error",
          "ename": "KeyError",
          "evalue": "ignored",
          "traceback": [
            "\u001b[0;31m---------------------------------------------------------------------------\u001b[0m",
            "\u001b[0;31mKeyError\u001b[0m                                  Traceback (most recent call last)",
            "\u001b[0;32m<ipython-input-61-8319514bbc4c>\u001b[0m in \u001b[0;36m<module>\u001b[0;34m()\u001b[0m\n\u001b[0;32m----> 1\u001b[0;31m \u001b[0;32mdel\u001b[0m \u001b[0mdt\u001b[0m\u001b[0;34m[\u001b[0m\u001b[0;34m\"Samba\"\u001b[0m\u001b[0;34m]\u001b[0m\u001b[0;34m\u001b[0m\u001b[0;34m\u001b[0m\u001b[0m\n\u001b[0m",
            "\u001b[0;31mKeyError\u001b[0m: 'Samba'"
          ]
        }
      ]
    },
    {
      "cell_type": "code",
      "metadata": {
        "id": "NgLpcXdxg_d_",
        "outputId": "4b584d80-8aec-425c-b2b2-d354bd54326d",
        "colab": {
          "base_uri": "https://localhost:8080/"
        }
      },
      "source": [
        "if \"Samba\" in dt.keys():\n",
        "  del dt[\"Samba\"]\n",
        "else:\n",
        "  print(\"Better you didn't delete directly\")"
      ],
      "execution_count": 64,
      "outputs": [
        {
          "output_type": "stream",
          "text": [
            "Better you didn't delete directly\n"
          ],
          "name": "stdout"
        }
      ]
    },
    {
      "cell_type": "code",
      "metadata": {
        "id": "5igQr34xhUgj",
        "outputId": "ae948254-057a-402f-d24e-0ec0abf8827d",
        "colab": {
          "base_uri": "https://localhost:8080/"
        }
      },
      "source": [
        "for key in dt:\n",
        "  print(key,\" : \",dt[key])"
      ],
      "execution_count": 65,
      "outputs": [
        {
          "output_type": "stream",
          "text": [
            "key  :  value\n",
            "name  :  roll number\n",
            "Shiva  :  502\n",
            "Sathwik  :  520\n"
          ],
          "name": "stdout"
        }
      ]
    },
    {
      "cell_type": "code",
      "metadata": {
        "id": "RhskJ60vho1b",
        "outputId": "6221f3f3-4c2f-4c2c-efd8-3ba461922121",
        "colab": {
          "base_uri": "https://localhost:8080/"
        }
      },
      "source": [
        "for k,v in dt.items():\n",
        "  print(k,\" : \",v)"
      ],
      "execution_count": 66,
      "outputs": [
        {
          "output_type": "stream",
          "text": [
            "key  :  value\n",
            "name  :  roll number\n",
            "Shiva  :  502\n",
            "Sathwik  :  520\n"
          ],
          "name": "stdout"
        }
      ]
    },
    {
      "cell_type": "code",
      "metadata": {
        "id": "PT25sz-xhvt2",
        "outputId": "bd904242-e4c9-4ae9-edf1-19bf7697c6ae",
        "colab": {
          "base_uri": "https://localhost:8080/"
        }
      },
      "source": [
        "\"Shiva\" in dt"
      ],
      "execution_count": 68,
      "outputs": [
        {
          "output_type": "execute_result",
          "data": {
            "text/plain": [
              "True"
            ]
          },
          "metadata": {
            "tags": []
          },
          "execution_count": 68
        }
      ]
    },
    {
      "cell_type": "code",
      "metadata": {
        "id": "nOZncCJnh9Bm",
        "outputId": "6d09ec72-c78d-4d3f-f635-42d2fddc3ebc",
        "colab": {
          "base_uri": "https://localhost:8080/"
        }
      },
      "source": [
        "502 in dt"
      ],
      "execution_count": 69,
      "outputs": [
        {
          "output_type": "execute_result",
          "data": {
            "text/plain": [
              "False"
            ]
          },
          "metadata": {
            "tags": []
          },
          "execution_count": 69
        }
      ]
    },
    {
      "cell_type": "code",
      "metadata": {
        "id": "XodO8VMAiMel",
        "outputId": "dd6ef588-c353-4d92-d88a-0c6e0a825d2f",
        "colab": {
          "base_uri": "https://localhost:8080/"
        }
      },
      "source": [
        "dt.clear()\n",
        "print(dt)"
      ],
      "execution_count": 70,
      "outputs": [
        {
          "output_type": "stream",
          "text": [
            "{}\n"
          ],
          "name": "stdout"
        }
      ]
    },
    {
      "cell_type": "markdown",
      "metadata": {
        "id": "ggDRkX_NiP3z"
      },
      "source": [
        "**Tuples**\n",
        "\n",
        "Tuples are immutable"
      ]
    },
    {
      "cell_type": "code",
      "metadata": {
        "id": "jE-1vMMOiSLw",
        "outputId": "4050f5df-672b-404e-dba7-a06151555292",
        "colab": {
          "base_uri": "https://localhost:8080/"
        }
      },
      "source": [
        "point = (2,3)\n",
        "print(point[0])"
      ],
      "execution_count": 71,
      "outputs": [
        {
          "output_type": "stream",
          "text": [
            "2\n"
          ],
          "name": "stdout"
        }
      ]
    }
  ]
}