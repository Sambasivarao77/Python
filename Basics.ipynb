{
  "nbformat": 4,
  "nbformat_minor": 0,
  "metadata": {
    "colab": {
      "name": "Basics.ipynb",
      "provenance": [],
      "authorship_tag": "ABX9TyPIVTYaVTskjvzECx+/Pv4v",
      "include_colab_link": true
    },
    "kernelspec": {
      "name": "python3",
      "display_name": "Python 3"
    },
    "language_info": {
      "name": "python"
    }
  },
  "cells": [
    {
      "cell_type": "markdown",
      "metadata": {
        "id": "view-in-github",
        "colab_type": "text"
      },
      "source": [
        "<a href=\"https://colab.research.google.com/github/Sambasivarao77/Python/blob/main/Basics.ipynb\" target=\"_parent\"><img src=\"https://colab.research.google.com/assets/colab-badge.svg\" alt=\"Open In Colab\"/></a>"
      ]
    },
    {
      "cell_type": "markdown",
      "metadata": {
        "id": "LQy4_DvaSM09"
      },
      "source": [
        "**Why to learn Python**\n",
        "\n",
        "* Code development speed\n",
        "* Compact easy to remeber syntax\n",
        "* No compilation\n",
        "* Library (or module) for everything\n",
        "* Used heavily in Data science, ML and Scientific computing\n",
        "* Plenty of Job opportuniites "
      ]
    },
    {
      "cell_type": "markdown",
      "metadata": {
        "id": "muua5AuoU68d"
      },
      "source": [
        "**Variables**"
      ]
    },
    {
      "cell_type": "code",
      "metadata": {
        "id": "K0qd-imbU-mp",
        "outputId": "f5e3cf54-2554-4f18-84a0-4c3508a00af9",
        "colab": {
          "base_uri": "https://localhost:8080/"
        }
      },
      "source": [
        "rice = 1200\n",
        "rent = 6000\n",
        "gas = 650\n",
        "total = rice + rent + gas\n",
        "print(total)"
      ],
      "execution_count": 1,
      "outputs": [
        {
          "output_type": "stream",
          "text": [
            "7850\n"
          ],
          "name": "stdout"
        }
      ]
    }
  ]
}