{
  "nbformat": 4,
  "nbformat_minor": 0,
  "metadata": {
    "colab": {
      "name": "Inheritance_and_multiple_Inheritance.ipynb",
      "provenance": [],
      "collapsed_sections": [],
      "authorship_tag": "ABX9TyNQNkUeJTuNIvHeXKYQmLVS",
      "include_colab_link": true
    },
    "kernelspec": {
      "name": "python3",
      "display_name": "Python 3"
    },
    "language_info": {
      "name": "python"
    }
  },
  "cells": [
    {
      "cell_type": "markdown",
      "metadata": {
        "id": "view-in-github",
        "colab_type": "text"
      },
      "source": [
        "<a href=\"https://colab.research.google.com/github/Sambasivarao77/Python/blob/main/Inheritance_and_multiple_Inheritance.ipynb\" target=\"_parent\"><img src=\"https://colab.research.google.com/assets/colab-badge.svg\" alt=\"Open In Colab\"/></a>"
      ]
    },
    {
      "cell_type": "code",
      "metadata": {
        "colab": {
          "base_uri": "https://localhost:8080/"
        },
        "id": "s5v__1H5J9Pc",
        "outputId": "443d5b59-c8e8-49ec-a2b0-ebe8b008c3ad"
      },
      "source": [
        "class Vehicle:\n",
        "  def general_usage(self):\n",
        "    print(\"General usage: Transportation\")\n",
        "\n",
        "class Car(Vehicle):\n",
        "  def __init__(self):\n",
        "    print(\"I am Car\")\n",
        "    self.wheels = 4\n",
        "    self.has_roof = True\n",
        "  \n",
        "  def specific_usage(self):\n",
        "    print(\"Commute to work and for family trip\")\n",
        "\n",
        "class MotorCycle(Vehicle):\n",
        "  def __init__(self):\n",
        "    print(\"I am MotorCycle\")\n",
        "    self.wheels = 2\n",
        "    self.has_roof = False\n",
        "\n",
        "  def specific_usage(self):\n",
        "    print(\"Road trip and racing\")\n",
        "\n",
        "if __name__ == \"__main__\":\n",
        "  c = Car()\n",
        "  c.general_usage()\n",
        "  c.specific_usage()\n",
        "  print()\n",
        "  m = MotorCycle()\n",
        "  m.general_usage()\n",
        "  m.specific_usage()\n",
        "  print()\n",
        "  print(isinstance(c,Car))  #Is c is instance of Car => True\n",
        "  print(isinstance(c,MotorCycle)) #Is c is instance of MotorCycle => False\n",
        "  print()\n",
        "  print(issubclass(Car,Vehicle)) # Is car subclass of Vehicle => True\n",
        "  print(issubclass(Car,MotorCycle)) # Is car subclass of MotorCycle => False"
      ],
      "execution_count": 10,
      "outputs": [
        {
          "output_type": "stream",
          "text": [
            "I am Car\n",
            "General usage: Transportation\n",
            "Commute to work and for family trip\n",
            "\n",
            "I am MotorCycle\n",
            "General usage: Transportation\n",
            "Road trip and racing\n",
            "\n",
            "True\n",
            "False\n",
            "\n",
            "True\n",
            "False\n"
          ],
          "name": "stdout"
        }
      ]
    },
    {
      "cell_type": "markdown",
      "metadata": {
        "id": "LQFMZxjkPeKz"
      },
      "source": [
        "**MultiLevel Inheritance**"
      ]
    },
    {
      "cell_type": "code",
      "metadata": {
        "colab": {
          "base_uri": "https://localhost:8080/"
        },
        "id": "mW1pJ9tROjyW",
        "outputId": "048e40e7-a635-4672-e165-638abdfa95b1"
      },
      "source": [
        "class Father:\n",
        "  def gardening(self):\n",
        "    print(\"I love gardening\")\n",
        "  def skills(self):\n",
        "    print(\"Gardening and Programming\")\n",
        "\n",
        "class Mother:\n",
        "  def cooking(self):\n",
        "    print(\"I love cooking\")\n",
        "  def skills(self):\n",
        "    print(\"Cooking and Programming\")\n",
        "\n",
        "class Child(Father,Mother):\n",
        "  def __init__(self):\n",
        "    print(\"I am child\")\n",
        "\n",
        "  def sports(self):\n",
        "    print(\"I enjoy playing sports\")\n",
        "\n",
        "  def skills(self):\n",
        "    print(\"Study and sports\")\n",
        "\n",
        "c = Child()\n",
        "c.gardening()\n",
        "c.cooking()\n",
        "c.skills()"
      ],
      "execution_count": 11,
      "outputs": [
        {
          "output_type": "stream",
          "text": [
            "I am child\n",
            "I love gardening\n",
            "I love cooking\n",
            "Study and sports\n"
          ],
          "name": "stdout"
        }
      ]
    },
    {
      "cell_type": "code",
      "metadata": {
        "colab": {
          "base_uri": "https://localhost:8080/"
        },
        "id": "YV7pgfx2Qcja",
        "outputId": "0cf62d37-71c4-4ace-8060-69537d765e6a"
      },
      "source": [
        "class Father:\n",
        "  def gardening(self):\n",
        "    print(\"I love gardening\")\n",
        "  def skills(self):\n",
        "    print(\"Gardening and Programming\")\n",
        "\n",
        "class Mother:\n",
        "  def cooking(self):\n",
        "    print(\"I love cooking\")\n",
        "  def skills(self):\n",
        "    print(\"Cooking and Programming\")\n",
        "\n",
        "class Child(Father,Mother):\n",
        "  def __init__(self):\n",
        "    print(\"I am child\")\n",
        "\n",
        "  def sports(self):\n",
        "    print(\"I enjoy playing sports\")\n",
        "\n",
        "  def skills(self):\n",
        "    Father.skills(self)\n",
        "    Mother.skills(self)\n",
        "    print(\"Study and sports\")\n",
        "\n",
        "c = Child()\n",
        "c.skills()"
      ],
      "execution_count": 12,
      "outputs": [
        {
          "output_type": "stream",
          "text": [
            "I am child\n",
            "Gardening and Programming\n",
            "Cooking and Programming\n",
            "Study and sports\n"
          ],
          "name": "stdout"
        }
      ]
    }
  ]
}