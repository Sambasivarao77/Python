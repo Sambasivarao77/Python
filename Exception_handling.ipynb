{
  "nbformat": 4,
  "nbformat_minor": 0,
  "metadata": {
    "colab": {
      "name": "Exception_handling.ipynb",
      "provenance": [],
      "authorship_tag": "ABX9TyO5/CTrnWNReBYnYmLjVxot",
      "include_colab_link": true
    },
    "kernelspec": {
      "name": "python3",
      "display_name": "Python 3"
    },
    "language_info": {
      "name": "python"
    }
  },
  "cells": [
    {
      "cell_type": "markdown",
      "metadata": {
        "id": "view-in-github",
        "colab_type": "text"
      },
      "source": [
        "<a href=\"https://colab.research.google.com/github/Sambasivarao77/Python/blob/main/Exception_handling.ipynb\" target=\"_parent\"><img src=\"https://colab.research.google.com/assets/colab-badge.svg\" alt=\"Open In Colab\"/></a>"
      ]
    },
    {
      "cell_type": "code",
      "metadata": {
        "colab": {
          "base_uri": "https://localhost:8080/",
          "height": 193
        },
        "id": "rl7UP9AaU1BG",
        "outputId": "89ed3c7b-efbd-420e-f80c-989e8b8178b3"
      },
      "source": [
        "#sample exception\n",
        "1/0"
      ],
      "execution_count": 3,
      "outputs": [
        {
          "output_type": "error",
          "ename": "ZeroDivisionError",
          "evalue": "ignored",
          "traceback": [
            "\u001b[0;31m---------------------------------------------------------------------------\u001b[0m",
            "\u001b[0;31mZeroDivisionError\u001b[0m                         Traceback (most recent call last)",
            "\u001b[0;32m<ipython-input-3-281f143e6eeb>\u001b[0m in \u001b[0;36m<module>\u001b[0;34m()\u001b[0m\n\u001b[1;32m      1\u001b[0m \u001b[0;31m#sample exception\u001b[0m\u001b[0;34m\u001b[0m\u001b[0;34m\u001b[0m\u001b[0;34m\u001b[0m\u001b[0m\n\u001b[0;32m----> 2\u001b[0;31m \u001b[0;36m1\u001b[0m\u001b[0;34m/\u001b[0m\u001b[0;36m0\u001b[0m\u001b[0;34m\u001b[0m\u001b[0;34m\u001b[0m\u001b[0m\n\u001b[0m",
            "\u001b[0;31mZeroDivisionError\u001b[0m: division by zero"
          ]
        }
      ]
    },
    {
      "cell_type": "code",
      "metadata": {
        "colab": {
          "base_uri": "https://localhost:8080/",
          "height": 174
        },
        "id": "KNPVip3fVxHd",
        "outputId": "6aaf8b66-e284-441b-e100-7121f38c4794"
      },
      "source": [
        "\"abc\"+3"
      ],
      "execution_count": 2,
      "outputs": [
        {
          "output_type": "error",
          "ename": "TypeError",
          "evalue": "ignored",
          "traceback": [
            "\u001b[0;31m---------------------------------------------------------------------------\u001b[0m",
            "\u001b[0;31mTypeError\u001b[0m                                 Traceback (most recent call last)",
            "\u001b[0;32m<ipython-input-2-db4b0cc81ec7>\u001b[0m in \u001b[0;36m<module>\u001b[0;34m()\u001b[0m\n\u001b[0;32m----> 1\u001b[0;31m \u001b[0;34m\"abc\"\u001b[0m\u001b[0;34m+\u001b[0m\u001b[0;36m3\u001b[0m\u001b[0;34m\u001b[0m\u001b[0;34m\u001b[0m\u001b[0m\n\u001b[0m",
            "\u001b[0;31mTypeError\u001b[0m: can only concatenate str (not \"int\") to str"
          ]
        }
      ]
    },
    {
      "cell_type": "code",
      "metadata": {
        "colab": {
          "base_uri": "https://localhost:8080/"
        },
        "id": "0mdzB7bnV9d-",
        "outputId": "6126bed0-55c8-4a3e-9493-fa3bce235bd7"
      },
      "source": [
        "x = int(input(\"Enter number1 \"))\n",
        "y = int(input(\"Enter number2 \"))\n",
        "try :\n",
        "  z = x/y\n",
        "except Exception as e:\n",
        "  print(\"Exception occured : \",e)\n",
        "  z = None\n",
        "\n",
        "print(\"Division is \",z)"
      ],
      "execution_count": 5,
      "outputs": [
        {
          "output_type": "stream",
          "text": [
            "Enter number1 1\n",
            "Enter number2 0\n",
            "Exception occured :  division by zero\n",
            "Division is  None\n"
          ],
          "name": "stdout"
        }
      ]
    },
    {
      "cell_type": "code",
      "metadata": {
        "colab": {
          "base_uri": "https://localhost:8080/"
        },
        "id": "nA_Qa7OeXknH",
        "outputId": "e2265538-f35b-4e63-999b-877b6a8dce10"
      },
      "source": [
        "x = int(input(\"Enter number1 \"))\n",
        "y = int(input(\"Enter number2 \"))\n",
        "try :\n",
        "  z = x/y\n",
        "except ZeroDivisionError as e:\n",
        "  print(\"Division by zero exception\")\n",
        "  z = None\n",
        "\n",
        "print(\"Division is \",z)"
      ],
      "execution_count": 9,
      "outputs": [
        {
          "output_type": "stream",
          "text": [
            "Enter number1 1\n",
            "Enter number2 0\n",
            "Division by zero exception\n",
            "Division is  None\n"
          ],
          "name": "stdout"
        }
      ]
    },
    {
      "cell_type": "code",
      "metadata": {
        "colab": {
          "base_uri": "https://localhost:8080/"
        },
        "id": "QMiYFOPnYXEK",
        "outputId": "783e5795-ec78-4cfd-abfa-a3711da0ed6b"
      },
      "source": [
        "x = int(input(\"Enter number1 \"))\n",
        "y = int(input(\"Enter number2 \"))\n",
        "try :\n",
        "  z = x/y\n",
        "  a = \"abc\"+3\n",
        "except ZeroDivisionError as e:\n",
        "  print(\"Division by zero exception\")\n",
        "  z = None\n",
        "except Exception as e:\n",
        "  print(\"Other Exception occured : \",e)\n",
        "  print(\"And Exception type : \",type(e).__name__)\n",
        "\n",
        "print(\"Division is \",z)"
      ],
      "execution_count": 12,
      "outputs": [
        {
          "output_type": "stream",
          "text": [
            "Enter number1 2\n",
            "Enter number2 2\n",
            "Other Exception occured :  can only concatenate str (not \"int\") to str\n",
            "And Exception type :  TypeError\n",
            "Division is  1.0\n"
          ],
          "name": "stdout"
        }
      ]
    }
  ]
}