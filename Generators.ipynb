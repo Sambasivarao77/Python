{
  "nbformat": 4,
  "nbformat_minor": 0,
  "metadata": {
    "colab": {
      "name": "Generators.ipynb",
      "provenance": [],
      "authorship_tag": "ABX9TyMNapbgZ3IRDchKOTZWP86j",
      "include_colab_link": true
    },
    "kernelspec": {
      "name": "python3",
      "display_name": "Python 3"
    },
    "language_info": {
      "name": "python"
    }
  },
  "cells": [
    {
      "cell_type": "markdown",
      "metadata": {
        "id": "view-in-github",
        "colab_type": "text"
      },
      "source": [
        "<a href=\"https://colab.research.google.com/github/Sambasivarao77/Python/blob/main/Generators.ipynb\" target=\"_parent\"><img src=\"https://colab.research.google.com/assets/colab-badge.svg\" alt=\"Open In Colab\"/></a>"
      ]
    },
    {
      "cell_type": "markdown",
      "metadata": {
        "id": "OIZxLSrJSz-r"
      },
      "source": [
        "Generator is a simple way of creating an iterator"
      ]
    },
    {
      "cell_type": "code",
      "metadata": {
        "id": "ua7bwTHMSshw"
      },
      "source": [
        "def remote_control():\n",
        "  yield \"ETv\"\n",
        "  yield \"Maa Tv\"\n",
        "  yield \"News\"\n",
        "  yield \"Gemini\"\n",
        "\n",
        "r = remote_control()    "
      ],
      "execution_count": 1,
      "outputs": []
    },
    {
      "cell_type": "code",
      "metadata": {
        "colab": {
          "base_uri": "https://localhost:8080/"
        },
        "id": "fyW4zh2OVbFb",
        "outputId": "7e86f432-1c59-41b5-f817-43a6d298fa15"
      },
      "source": [
        "print(r)"
      ],
      "execution_count": 2,
      "outputs": [
        {
          "output_type": "stream",
          "text": [
            "<generator object remote_control at 0x7fcb0bd63550>\n"
          ],
          "name": "stdout"
        }
      ]
    },
    {
      "cell_type": "code",
      "metadata": {
        "colab": {
          "base_uri": "https://localhost:8080/"
        },
        "id": "pO3ihE9RVhRq",
        "outputId": "214125d3-66de-4dec-931d-c9234ad0322f"
      },
      "source": [
        "print(next(r))"
      ],
      "execution_count": 3,
      "outputs": [
        {
          "output_type": "stream",
          "text": [
            "ETv\n"
          ],
          "name": "stdout"
        }
      ]
    },
    {
      "cell_type": "code",
      "metadata": {
        "colab": {
          "base_uri": "https://localhost:8080/"
        },
        "id": "_pnIK-EDVpgZ",
        "outputId": "4a708195-babc-4552-bb00-3b73dfaf008c"
      },
      "source": [
        "print(next(r))\n",
        "print(next(r))\n",
        "print(next(r))"
      ],
      "execution_count": 4,
      "outputs": [
        {
          "output_type": "stream",
          "text": [
            "Maa Tv\n",
            "News\n",
            "Gemini\n"
          ],
          "name": "stdout"
        }
      ]
    },
    {
      "cell_type": "code",
      "metadata": {
        "colab": {
          "base_uri": "https://localhost:8080/",
          "height": 174
        },
        "id": "h0g29LDvVtkx",
        "outputId": "8227dc86-8ce2-45c1-a436-9d51b03bf4e4"
      },
      "source": [
        "print(next(r))"
      ],
      "execution_count": 5,
      "outputs": [
        {
          "output_type": "error",
          "ename": "StopIteration",
          "evalue": "ignored",
          "traceback": [
            "\u001b[0;31m---------------------------------------------------------------------------\u001b[0m",
            "\u001b[0;31mStopIteration\u001b[0m                             Traceback (most recent call last)",
            "\u001b[0;32m<ipython-input-5-0f1e116d63f7>\u001b[0m in \u001b[0;36m<module>\u001b[0;34m()\u001b[0m\n\u001b[0;32m----> 1\u001b[0;31m \u001b[0mprint\u001b[0m\u001b[0;34m(\u001b[0m\u001b[0mnext\u001b[0m\u001b[0;34m(\u001b[0m\u001b[0mr\u001b[0m\u001b[0;34m)\u001b[0m\u001b[0;34m)\u001b[0m\u001b[0;34m\u001b[0m\u001b[0;34m\u001b[0m\u001b[0m\n\u001b[0m",
            "\u001b[0;31mStopIteration\u001b[0m: "
          ]
        }
      ]
    },
    {
      "cell_type": "markdown",
      "metadata": {
        "id": "PDFvZ4DaVyUs"
      },
      "source": [
        "Generate fibonacci series using generator"
      ]
    },
    {
      "cell_type": "code",
      "metadata": {
        "colab": {
          "base_uri": "https://localhost:8080/"
        },
        "id": "Vaw0LP0qVvc1",
        "outputId": "ec0f51f8-cf8b-4db7-867e-af1f60b59e86"
      },
      "source": [
        "def fib():\n",
        "  a,b = 0,1\n",
        "  while True:\n",
        "    yield a\n",
        "    a,b = b, a+b\n",
        "\n",
        "for f in fib():\n",
        "  if f>100 :\n",
        "    break\n",
        "  print(f,end = \" \")"
      ],
      "execution_count": 8,
      "outputs": [
        {
          "output_type": "stream",
          "text": [
            "0 1 1 2 3 5 8 13 21 34 55 89 "
          ],
          "name": "stdout"
        }
      ]
    }
  ]
}