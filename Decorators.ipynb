{
  "nbformat": 4,
  "nbformat_minor": 0,
  "metadata": {
    "colab": {
      "name": "Decorators.ipynb",
      "provenance": [],
      "authorship_tag": "ABX9TyM9s0SShoGzhq/Aiz2gJ61v",
      "include_colab_link": true
    },
    "kernelspec": {
      "name": "python3",
      "display_name": "Python 3"
    },
    "language_info": {
      "name": "python"
    }
  },
  "cells": [
    {
      "cell_type": "markdown",
      "metadata": {
        "id": "view-in-github",
        "colab_type": "text"
      },
      "source": [
        "<a href=\"https://colab.research.google.com/github/Sambasivarao77/Python/blob/main/Decorators.ipynb\" target=\"_parent\"><img src=\"https://colab.research.google.com/assets/colab-badge.svg\" alt=\"Open In Colab\"/></a>"
      ]
    },
    {
      "cell_type": "markdown",
      "metadata": {
        "id": "Jt8NMzJk1i-M"
      },
      "source": [
        "Without decorators"
      ]
    },
    {
      "cell_type": "code",
      "metadata": {
        "id": "1Fr9LalSttzG"
      },
      "source": [
        "def cal_square(numbers):\n",
        "  result = []\n",
        "  for i in numbers:\n",
        "    result.append(i*i)\n",
        "  return result\n",
        "\n",
        "def cal_cube(numbers):\n",
        "  result = []\n",
        "  for i in numbers:\n",
        "    result.append(i*i*i)\n",
        "  return result\n",
        "\n",
        "numbers = range(100000)\n",
        "result = cal_square(numbers)\n",
        "result = cal_cube(numbers)"
      ],
      "execution_count": 10,
      "outputs": []
    },
    {
      "cell_type": "code",
      "metadata": {
        "colab": {
          "base_uri": "https://localhost:8080/"
        },
        "id": "kCTgUoRi2yCx",
        "outputId": "8506c2ca-c04b-4f24-9641-93d8926883e9"
      },
      "source": [
        "#measure time fo each function\n",
        "import time\n",
        "def cal_square(numbers):\n",
        "  result = []\n",
        "  start = time.time()\n",
        "  for i in numbers:\n",
        "    result.append(i*i)\n",
        "  end = time.time()\n",
        "  print(\"cal_square took time \",(end-start)*1000,\" milli seconds\")\n",
        "  return result\n",
        "\n",
        "def cal_cube(numbers):\n",
        "  result = []\n",
        "  start = time.time()\n",
        "  for i in numbers:\n",
        "    result.append(i*i*i)\n",
        "  end = time.time()\n",
        "  print(\"cal_cube took time \",(end-start)*1000,\" milli seconds\")  \n",
        "  return result\n",
        "\n",
        "numbers = range(100000)\n",
        "result = cal_square(numbers)\n",
        "result = cal_cube(numbers)"
      ],
      "execution_count": 14,
      "outputs": [
        {
          "output_type": "stream",
          "text": [
            "cal_square took time  11.457204818725586  milli seconds\n",
            "cal_cube took time  16.353845596313477  milli seconds\n"
          ],
          "name": "stdout"
        }
      ]
    },
    {
      "cell_type": "markdown",
      "metadata": {
        "id": "kq5sk3kv4G7j"
      },
      "source": [
        "If we have 200 functions to measure time then it is not feasible to have timing logic in all the functions.  \n",
        "So with decorators we can take timing code from each function and have as one decorator. that can be applied to all functions to measure time."
      ]
    },
    {
      "cell_type": "code",
      "metadata": {
        "colab": {
          "base_uri": "https://localhost:8080/"
        },
        "id": "PLPzVRBl4hvC",
        "outputId": "2f6bae67-76db-47ab-b1ab-91ca776c2b38"
      },
      "source": [
        "#measure time fo each function\n",
        "import time\n",
        "\n",
        "def time_it(func):\n",
        "  def wrapper(*args,**kwargs):\n",
        "    start = time.time()\n",
        "    result = func(*args,**kwargs)\n",
        "    end = time.time()\n",
        "    print(func.__name__+ \" took \"+str((end-start)*1000)+\" milli seconds\")\n",
        "    return result\n",
        "  return wrapper\n",
        "\n",
        "@time_it\n",
        "def cal_square(numbers):\n",
        "  result = []\n",
        "  for i in numbers:\n",
        "    result.append(i*i)\n",
        "  return result\n",
        "\n",
        "@time_it\n",
        "def cal_cube(numbers):\n",
        "  result = []\n",
        "  for i in numbers:\n",
        "    result.append(i*i*i)\n",
        "  return result\n",
        "\n",
        "numbers = range(100000)\n",
        "result = cal_square(numbers)\n",
        "result = cal_cube(numbers)"
      ],
      "execution_count": 21,
      "outputs": [
        {
          "output_type": "stream",
          "text": [
            "cal_square took 11.088132858276367 milli seconds\n",
            "cal_cube took 16.546010971069336 milli seconds\n"
          ],
          "name": "stdout"
        }
      ]
    },
    {
      "cell_type": "markdown",
      "metadata": {
        "id": "H_GW1vBA6CaA"
      },
      "source": [
        "**Excersie**"
      ]
    },
    {
      "cell_type": "code",
      "metadata": {
        "colab": {
          "base_uri": "https://localhost:8080/"
        },
        "id": "CTln8V-86FlO",
        "outputId": "bb33beb3-8379-4ece-c007-14477e8a16c2"
      },
      "source": [
        "def check(func):\n",
        "  def helper(x):\n",
        "    if type(x)==int and x>0:\n",
        "      return func(x)\n",
        "    else:\n",
        "      raise Exception(\"Argumnet is not a non-negative integer\")\n",
        "  return helper\n",
        "\n",
        "@check\n",
        "def fact(n):\n",
        "  if n==1:\n",
        "    return 1\n",
        "  return n*fact(n-1)\n",
        "\n",
        "for i in range(1,10):\n",
        "  print(i,fact(i))\n",
        "\n",
        "try:\n",
        "  fact(-1)\n",
        "except Exception as e:\n",
        "  print(\"exception \",type(e))\n",
        "try:\n",
        "  fact(1.33)\n",
        "except Exception as e:\n",
        "  print(\"exception \",type(e))"
      ],
      "execution_count": 27,
      "outputs": [
        {
          "output_type": "stream",
          "text": [
            "1 1\n",
            "2 2\n",
            "3 6\n",
            "4 24\n",
            "5 120\n",
            "6 720\n",
            "7 5040\n",
            "8 40320\n",
            "9 362880\n",
            "exception  <class 'Exception'>\n",
            "exception  <class 'Exception'>\n"
          ],
          "name": "stdout"
        }
      ]
    },
    {
      "cell_type": "code",
      "metadata": {
        "id": "yRAJ7ZKY8yBi"
      },
      "source": [
        ""
      ],
      "execution_count": null,
      "outputs": []
    }
  ]
}