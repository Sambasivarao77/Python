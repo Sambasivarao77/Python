{
  "nbformat": 4,
  "nbformat_minor": 0,
  "metadata": {
    "colab": {
      "name": "Queue.ipynb",
      "provenance": [],
      "authorship_tag": "ABX9TyOkkCtrB4G4Grkb5BqmDu0U",
      "include_colab_link": true
    },
    "kernelspec": {
      "name": "python3",
      "display_name": "Python 3"
    },
    "language_info": {
      "name": "python"
    }
  },
  "cells": [
    {
      "cell_type": "markdown",
      "metadata": {
        "id": "view-in-github",
        "colab_type": "text"
      },
      "source": [
        "<a href=\"https://colab.research.google.com/github/Sambasivarao77/Python/blob/main/Queue.ipynb\" target=\"_parent\"><img src=\"https://colab.research.google.com/assets/colab-badge.svg\" alt=\"Open In Colab\"/></a>"
      ]
    },
    {
      "cell_type": "markdown",
      "metadata": {
        "id": "0dvGNns9Y6sE"
      },
      "source": [
        "Implement Queue"
      ]
    },
    {
      "cell_type": "code",
      "metadata": {
        "id": "ZO--GVGHY5Wd"
      },
      "source": [
        "queue = list()\n",
        "queue.insert(0,138)\n",
        "queue.insert(0,137)\n",
        "queue.insert(0,136)"
      ],
      "execution_count": 1,
      "outputs": []
    },
    {
      "cell_type": "code",
      "metadata": {
        "colab": {
          "base_uri": "https://localhost:8080/"
        },
        "id": "3tc6u4khZmeI",
        "outputId": "3d60caa6-1c66-4c61-adbc-5abeee0e8ebe"
      },
      "source": [
        "print(queue)"
      ],
      "execution_count": 2,
      "outputs": [
        {
          "output_type": "stream",
          "text": [
            "[136, 137, 138]\n"
          ],
          "name": "stdout"
        }
      ]
    },
    {
      "cell_type": "code",
      "metadata": {
        "colab": {
          "base_uri": "https://localhost:8080/"
        },
        "id": "aHAtYkW-ZtX8",
        "outputId": "668de733-b8cf-4535-e751-e76857d69fcb"
      },
      "source": [
        "queue.pop()"
      ],
      "execution_count": 3,
      "outputs": [
        {
          "output_type": "execute_result",
          "data": {
            "text/plain": [
              "138"
            ]
          },
          "metadata": {
            "tags": []
          },
          "execution_count": 3
        }
      ]
    },
    {
      "cell_type": "code",
      "metadata": {
        "colab": {
          "base_uri": "https://localhost:8080/"
        },
        "id": "OJCpfeZaZwkp",
        "outputId": "0eaf5a44-3ec7-49eb-a446-dd86313e0701"
      },
      "source": [
        "queue.pop()"
      ],
      "execution_count": 4,
      "outputs": [
        {
          "output_type": "execute_result",
          "data": {
            "text/plain": [
              "137"
            ]
          },
          "metadata": {
            "tags": []
          },
          "execution_count": 4
        }
      ]
    },
    {
      "cell_type": "code",
      "metadata": {
        "colab": {
          "base_uri": "https://localhost:8080/"
        },
        "id": "N30o8h-ZZyhj",
        "outputId": "4e001601-a1cc-4330-a957-40f45b403610"
      },
      "source": [
        "queue.pop()"
      ],
      "execution_count": 5,
      "outputs": [
        {
          "output_type": "execute_result",
          "data": {
            "text/plain": [
              "136"
            ]
          },
          "metadata": {
            "tags": []
          },
          "execution_count": 5
        }
      ]
    },
    {
      "cell_type": "code",
      "metadata": {
        "colab": {
          "base_uri": "https://localhost:8080/",
          "height": 174
        },
        "id": "_BYP0NYwZzKG",
        "outputId": "774dbdab-5437-4982-b4e5-81c1b0f55e80"
      },
      "source": [
        "queue.pop()"
      ],
      "execution_count": 6,
      "outputs": [
        {
          "output_type": "error",
          "ename": "IndexError",
          "evalue": "ignored",
          "traceback": [
            "\u001b[0;31m---------------------------------------------------------------------------\u001b[0m",
            "\u001b[0;31mIndexError\u001b[0m                                Traceback (most recent call last)",
            "\u001b[0;32m<ipython-input-6-424d098a19ba>\u001b[0m in \u001b[0;36m<module>\u001b[0;34m()\u001b[0m\n\u001b[0;32m----> 1\u001b[0;31m \u001b[0mqueue\u001b[0m\u001b[0;34m.\u001b[0m\u001b[0mpop\u001b[0m\u001b[0;34m(\u001b[0m\u001b[0;34m)\u001b[0m\u001b[0;34m\u001b[0m\u001b[0;34m\u001b[0m\u001b[0m\n\u001b[0m",
            "\u001b[0;31mIndexError\u001b[0m: pop from empty list"
          ]
        }
      ]
    },
    {
      "cell_type": "code",
      "metadata": {
        "id": "CslD-VqKZ1wZ"
      },
      "source": [
        ""
      ],
      "execution_count": null,
      "outputs": []
    },
    {
      "cell_type": "markdown",
      "metadata": {
        "id": "DFdVHqvGZ4vS"
      },
      "source": [
        "List works well for Queue but the problem is list is implemented with dynamic array. The same problem that we observed in stack is also here. So we use deque which is implemented with linked list"
      ]
    },
    {
      "cell_type": "code",
      "metadata": {
        "id": "uJdOOhELaIht"
      },
      "source": [
        "from collections import deque\n",
        "\n",
        "qu = deque()"
      ],
      "execution_count": 13,
      "outputs": []
    },
    {
      "cell_type": "code",
      "metadata": {
        "colab": {
          "base_uri": "https://localhost:8080/"
        },
        "id": "v8lJmuXRaVwx",
        "outputId": "23553a5e-1beb-4c91-b4b2-28b564b01125"
      },
      "source": [
        "qu.appendleft(138)\n",
        "qu"
      ],
      "execution_count": 14,
      "outputs": [
        {
          "output_type": "execute_result",
          "data": {
            "text/plain": [
              "deque([138])"
            ]
          },
          "metadata": {
            "tags": []
          },
          "execution_count": 14
        }
      ]
    },
    {
      "cell_type": "code",
      "metadata": {
        "colab": {
          "base_uri": "https://localhost:8080/"
        },
        "id": "1dshfeKbabgO",
        "outputId": "9e4f401d-0d35-4f5b-ddfe-1cfa4dc608e8"
      },
      "source": [
        "qu.appendleft(137)\n",
        "qu"
      ],
      "execution_count": 15,
      "outputs": [
        {
          "output_type": "execute_result",
          "data": {
            "text/plain": [
              "deque([137, 138])"
            ]
          },
          "metadata": {
            "tags": []
          },
          "execution_count": 15
        }
      ]
    },
    {
      "cell_type": "code",
      "metadata": {
        "colab": {
          "base_uri": "https://localhost:8080/"
        },
        "id": "dJ5g3mngadE_",
        "outputId": "a1fd8f64-ac68-40a7-9321-ab221f423266"
      },
      "source": [
        "qu.appendleft(136)\n",
        "qu"
      ],
      "execution_count": 16,
      "outputs": [
        {
          "output_type": "execute_result",
          "data": {
            "text/plain": [
              "deque([136, 137, 138])"
            ]
          },
          "metadata": {
            "tags": []
          },
          "execution_count": 16
        }
      ]
    },
    {
      "cell_type": "code",
      "metadata": {
        "colab": {
          "base_uri": "https://localhost:8080/"
        },
        "id": "TWAIuC0Mae5f",
        "outputId": "9c03044e-d24d-490d-c642-ebaa2ad3e42e"
      },
      "source": [
        "qu.pop()"
      ],
      "execution_count": 17,
      "outputs": [
        {
          "output_type": "execute_result",
          "data": {
            "text/plain": [
              "138"
            ]
          },
          "metadata": {
            "tags": []
          },
          "execution_count": 17
        }
      ]
    },
    {
      "cell_type": "code",
      "metadata": {
        "colab": {
          "base_uri": "https://localhost:8080/"
        },
        "id": "3b6ubFflagJA",
        "outputId": "954473e4-31ee-4184-d497-49c00080583b"
      },
      "source": [
        "qu.pop()"
      ],
      "execution_count": 18,
      "outputs": [
        {
          "output_type": "execute_result",
          "data": {
            "text/plain": [
              "137"
            ]
          },
          "metadata": {
            "tags": []
          },
          "execution_count": 18
        }
      ]
    },
    {
      "cell_type": "code",
      "metadata": {
        "colab": {
          "base_uri": "https://localhost:8080/"
        },
        "id": "L4NaiV-kahIE",
        "outputId": "54450c58-bfec-40ba-e801-6c2eff6550e2"
      },
      "source": [
        "qu.pop()"
      ],
      "execution_count": 19,
      "outputs": [
        {
          "output_type": "execute_result",
          "data": {
            "text/plain": [
              "136"
            ]
          },
          "metadata": {
            "tags": []
          },
          "execution_count": 19
        }
      ]
    },
    {
      "cell_type": "code",
      "metadata": {
        "colab": {
          "base_uri": "https://localhost:8080/",
          "height": 174
        },
        "id": "unDTBbO_au1z",
        "outputId": "4bba9f36-1f07-4a4a-ef59-b6119bf6e53f"
      },
      "source": [
        "qu.pop()"
      ],
      "execution_count": 20,
      "outputs": [
        {
          "output_type": "error",
          "ename": "IndexError",
          "evalue": "ignored",
          "traceback": [
            "\u001b[0;31m---------------------------------------------------------------------------\u001b[0m",
            "\u001b[0;31mIndexError\u001b[0m                                Traceback (most recent call last)",
            "\u001b[0;32m<ipython-input-20-474f6cd697e4>\u001b[0m in \u001b[0;36m<module>\u001b[0;34m()\u001b[0m\n\u001b[0;32m----> 1\u001b[0;31m \u001b[0mqu\u001b[0m\u001b[0;34m.\u001b[0m\u001b[0mpop\u001b[0m\u001b[0;34m(\u001b[0m\u001b[0;34m)\u001b[0m\u001b[0;34m\u001b[0m\u001b[0;34m\u001b[0m\u001b[0m\n\u001b[0m",
            "\u001b[0;31mIndexError\u001b[0m: pop from an empty deque"
          ]
        }
      ]
    },
    {
      "cell_type": "markdown",
      "metadata": {
        "id": "Y674azB2dMeG"
      },
      "source": [
        "\n",
        "\n",
        "    Design a food ordering system where your python program will run two threads,\n",
        "        Place Order: This thread will be placing an order and inserting that into a queue. This thread places new order every 0.5 second. (hint: use time.sleep(0.5) function)\n",
        "        Serve Order: This thread will server the order. All you need to do is pop the order out of the queue and print it. This thread serves an order every 2 seconds. Also start this thread 1 second after place order thread is started.\n",
        "\n",
        "\n",
        "    Pass following list as an argument to place order thread,\n",
        "\n",
        "    orders = ['pizza','samosa','pasta','biryani','burger']\n",
        "\n",
        "    This problem is a producer,consumer problem where place_order thread is producing orders whereas server_order thread is consuming the food orders. Use Queue class implemented in a video tutorial.\n"
      ]
    },
    {
      "cell_type": "code",
      "metadata": {
        "colab": {
          "base_uri": "https://localhost:8080/"
        },
        "id": "Nchik8pWdN0S",
        "outputId": "3125e492-4f66-4803-b64b-acedd01ad90b"
      },
      "source": [
        "import time\n",
        "from collections import deque\n",
        "import threading\n",
        "\n",
        "qu = deque() \n",
        "def place_order(orders):\n",
        "  for order in orders:\n",
        "    qu.appendleft(order)\n",
        "    print(\"placed order : \",order)\n",
        "    time.sleep(0.5)\n",
        "\n",
        "def consume_order():\n",
        "  try:\n",
        "    while True:\n",
        "      print(\"consumed order : \",qu.pop())\n",
        "      time.sleep(2)\n",
        "  except Exception as e:\n",
        "    print(\"tried to pop from the empty queue ,\",type(e))\n",
        "\n",
        "orders = ['pizza','samosa','pasta','biryani','burger']\n",
        "t1 = threading.Thread(target=place_order,args=(orders,))\n",
        "t2 = threading.Thread(target=consume_order\n",
        "t1.start()\n",
        "t2.start()\n",
        "t1.join()\n",
        "t2.join()\n",
        "print(\"completed\")"
      ],
      "execution_count": 24,
      "outputs": [
        {
          "output_type": "stream",
          "text": [
            "placed order :  pizza\n",
            "consumed order :  pizza\n",
            "placed order :  samosa\n",
            "placed order :  pasta\n",
            "placed order :  biryani\n",
            "consumed order :  samosa\n",
            "placed order :  burger\n",
            "consumed order :  pasta\n",
            "consumed order :  biryani\n",
            "consumed order :  burger\n",
            "tried to pop from the empty queue , <class 'IndexError'>\n",
            "completed\n"
          ],
          "name": "stdout"
        }
      ]
    },
    {
      "cell_type": "markdown",
      "metadata": {
        "id": "nS4JJRhhgx_p"
      },
      "source": [
        "\n",
        "    Write a program to print binary numbers from 1 to 10 using Queue. Use Queue class implemented in main tutorial. Binary sequence should look like,\n",
        "\n",
        "    1\n",
        "    10\n",
        "    11\n",
        "    100\n",
        "    101\n",
        "    110\n",
        "    111\n",
        "    1000\n",
        "    1001\n",
        "    1010\n",
        "\n",
        "Hint: Notice a pattern above. After 1 second and third number is 1+0 and 1+1. 4th and 5th number are second number (i.e. 10) + 0 and second number (i.e. 10) + 1.\n",
        "\n",
        "You also need to add front() function in queue class that can return the front element in the queue."
      ]
    },
    {
      "cell_type": "code",
      "metadata": {
        "colab": {
          "base_uri": "https://localhost:8080/"
        },
        "id": "JQJdt-j0gzJG",
        "outputId": "12901d78-0379-4e1f-b828-796ec0854104"
      },
      "source": [
        "from collections import deque\n",
        "\n",
        "qu = deque()\n",
        "qu.appendleft(\"1\")\n",
        "for i in range(10):\n",
        "  current_value = qu.pop()\n",
        "  qu.appendleft(current_value+\"0\")\n",
        "  qu.appendleft(current_value+\"1\")\n",
        "  print(current_value)"
      ],
      "execution_count": 26,
      "outputs": [
        {
          "output_type": "stream",
          "text": [
            "1\n",
            "10\n",
            "11\n",
            "100\n",
            "101\n",
            "110\n",
            "111\n",
            "1000\n",
            "1001\n",
            "1010\n"
          ],
          "name": "stdout"
        }
      ]
    },
    {
      "cell_type": "code",
      "metadata": {
        "colab": {
          "base_uri": "https://localhost:8080/"
        },
        "id": "QaObI--Oh5go",
        "outputId": "fdc1e4a3-5cdd-44f7-8238-236cb24857a1"
      },
      "source": [
        "from collections import deque\n",
        "\n",
        "class Queue:\n",
        "    def __init__(self):\n",
        "        self.buffer = deque()\n",
        "\n",
        "    def enqueue(self, val):\n",
        "        self.buffer.appendleft(val)\n",
        "\n",
        "    def dequeue(self):\n",
        "        if len(self.buffer)==0:\n",
        "            print(\"Queue is empty\")\n",
        "            return\n",
        "\n",
        "        return self.buffer.pop()\n",
        "\n",
        "    def is_empty(self):\n",
        "        return len(self.buffer) == 0\n",
        "\n",
        "    def size(self):\n",
        "        return len(self.buffer)\n",
        "\n",
        "    def front(self):\n",
        "        return self.buffer[-1]\n",
        "\n",
        "def produce_binary_numbers(n):\n",
        "    numbers_queue = Queue()\n",
        "    numbers_queue.enqueue(\"1\")\n",
        "\n",
        "    for i in range(n):\n",
        "        front = numbers_queue.front()\n",
        "        print(\"   \", front)\n",
        "        numbers_queue.enqueue(front + \"0\")\n",
        "        numbers_queue.enqueue(front + \"1\")\n",
        "\n",
        "        numbers_queue.dequeue()\n",
        "\n",
        "\n",
        "if __name__ == '__main__':\n",
        "    produce_binary_numbers(10)"
      ],
      "execution_count": 27,
      "outputs": [
        {
          "output_type": "stream",
          "text": [
            "    1\n",
            "    10\n",
            "    11\n",
            "    100\n",
            "    101\n",
            "    110\n",
            "    111\n",
            "    1000\n",
            "    1001\n",
            "    1010\n"
          ],
          "name": "stdout"
        }
      ]
    },
    {
      "cell_type": "code",
      "metadata": {
        "id": "IjPBKtrihkbP"
      },
      "source": [
        ""
      ],
      "execution_count": null,
      "outputs": []
    }
  ]
}