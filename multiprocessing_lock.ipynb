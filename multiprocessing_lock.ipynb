{
  "nbformat": 4,
  "nbformat_minor": 0,
  "metadata": {
    "colab": {
      "name": "multiprocessing_lock.ipynb",
      "provenance": [],
      "authorship_tag": "ABX9TyNsxe8Hu9b9WmM+m36el4Z7",
      "include_colab_link": true
    },
    "kernelspec": {
      "name": "python3",
      "display_name": "Python 3"
    },
    "language_info": {
      "name": "python"
    }
  },
  "cells": [
    {
      "cell_type": "markdown",
      "metadata": {
        "id": "view-in-github",
        "colab_type": "text"
      },
      "source": [
        "<a href=\"https://colab.research.google.com/github/Sambasivarao77/Python/blob/main/multiprocessing_lock.ipynb\" target=\"_parent\"><img src=\"https://colab.research.google.com/assets/colab-badge.svg\" alt=\"Open In Colab\"/></a>"
      ]
    },
    {
      "cell_type": "markdown",
      "metadata": {
        "id": "YUSbDuIgU3yW"
      },
      "source": [
        "**without lock for depositing and withdrawing amount form bank**"
      ]
    },
    {
      "cell_type": "code",
      "metadata": {
        "colab": {
          "base_uri": "https://localhost:8080/"
        },
        "id": "WD5LTWE6UzIr",
        "outputId": "49ba9036-0fff-4f28-9f36-765c69c26c52"
      },
      "source": [
        "import time \n",
        "import multiprocessing\n",
        "\n",
        "def deposit(balance):\n",
        "  for i in range(100):\n",
        "    time.sleep(0.01)\n",
        "    balance.value = balance.value + 1\n",
        "\n",
        "def withdraw(balance):\n",
        "  for i in range(100):\n",
        "    time.sleep(0.01)\n",
        "    balance.value = balance.value -1\n",
        "\n",
        "balance = multiprocessing.Value('i',200)\n",
        "d = multiprocessing.Process(target=deposit,args=(balance,))\n",
        "w = multiprocessing.Process(target=withdraw,args=(balance,))\n",
        "\n",
        "d.start()\n",
        "w.start()\n",
        "\n",
        "d.join()\n",
        "w.join()\n",
        "\n",
        "print(balance.value)"
      ],
      "execution_count": 11,
      "outputs": [
        {
          "output_type": "stream",
          "text": [
            "208\n"
          ],
          "name": "stdout"
        }
      ]
    },
    {
      "cell_type": "markdown",
      "metadata": {
        "id": "6i1rERXhWwGf"
      },
      "source": [
        "**with lock**"
      ]
    },
    {
      "cell_type": "code",
      "metadata": {
        "colab": {
          "base_uri": "https://localhost:8080/"
        },
        "id": "v8RjFhnBWuqV",
        "outputId": "a377cd6b-f4d2-4889-8c4a-968d6859c4c2"
      },
      "source": [
        "import time \n",
        "import multiprocessing\n",
        "\n",
        "def deposit(balance,lock):\n",
        "  for i in range(100):\n",
        "    time.sleep(0.01)\n",
        "    lock.acquire()\n",
        "    balance.value = balance.value + 1\n",
        "    lock.release()\n",
        "\n",
        "def withdraw(balance,lock):\n",
        "  for i in range(100):\n",
        "    time.sleep(0.01)\n",
        "    lock.acquire()\n",
        "    balance.value = balance.value -1\n",
        "    lock.release()\n",
        "\n",
        "balance = multiprocessing.Value('i',200)\n",
        "lock = multiprocessing.Lock()\n",
        "d = multiprocessing.Process(target=deposit,args=(balance,lock,))\n",
        "w = multiprocessing.Process(target=withdraw,args=(balance,lock,))\n",
        "\n",
        "d.start()\n",
        "w.start()\n",
        "\n",
        "d.join()\n",
        "w.join()\n",
        "\n",
        "print(balance.value)"
      ],
      "execution_count": 15,
      "outputs": [
        {
          "output_type": "stream",
          "text": [
            "200\n"
          ],
          "name": "stdout"
        }
      ]
    }
  ]
}