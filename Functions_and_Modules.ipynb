{
  "nbformat": 4,
  "nbformat_minor": 0,
  "metadata": {
    "colab": {
      "name": "Functions_and_Modules.ipynb",
      "provenance": [],
      "collapsed_sections": [],
      "authorship_tag": "ABX9TyO7tysknlGh8fiujMZRI2qS",
      "include_colab_link": true
    },
    "kernelspec": {
      "name": "python3",
      "display_name": "Python 3"
    },
    "language_info": {
      "name": "python"
    }
  },
  "cells": [
    {
      "cell_type": "markdown",
      "metadata": {
        "id": "view-in-github",
        "colab_type": "text"
      },
      "source": [
        "<a href=\"https://colab.research.google.com/github/Sambasivarao77/Python/blob/main/Functions_and_Modules.ipynb\" target=\"_parent\"><img src=\"https://colab.research.google.com/assets/colab-badge.svg\" alt=\"Open In Colab\"/></a>"
      ]
    },
    {
      "cell_type": "markdown",
      "metadata": {
        "id": "0Z-ULvGDA2EW"
      },
      "source": [
        "**Functions**\n",
        "\n",
        "Function is a block of code that performs a specific task."
      ]
    },
    {
      "cell_type": "code",
      "metadata": {
        "colab": {
          "base_uri": "https://localhost:8080/"
        },
        "id": "9Pu0dACXv9Tt",
        "outputId": "c6c45e69-5d80-4779-b545-71082a68825b"
      },
      "source": [
        "def calculate_total(exp):\n",
        "  \"\"\"\n",
        "  To calculate toal expenses of each person and return the total amount.\n",
        "  \"\"\"\n",
        "  total = 0\n",
        "  for price in exp:\n",
        "    total += price\n",
        "  return total\n",
        "\n",
        "Samba_exp_list = [2203,4444,77,88887,7]\n",
        "Siva_exp_list = [4000, 55000, 980, 47890]\n",
        "Narendrs_exp_list = [7777,888,9999,2222]\n",
        "Suresh_exp_list = [7777,888,9999,2222]\n",
        "\n",
        "print(\"Samba_exp_list : \",calculate_total(Samba_exp_list))  \n",
        "print(\"Siva_exp_list : \",calculate_total(Siva_exp_list))\n",
        "print(\"Narendrs_exp_list : \",calculate_total(Narendrs_exp_list))\n",
        "print(\"Suresh_exp_list : \",calculate_total(Suresh_exp_list))"
      ],
      "execution_count": 6,
      "outputs": [
        {
          "output_type": "stream",
          "text": [
            "Samba_exp_list :  95618\n",
            "Siva_exp_list :  107870\n",
            "Narendrs_exp_list :  20886\n",
            "Suresh_exp_list :  20886\n"
          ],
          "name": "stdout"
        }
      ]
    },
    {
      "cell_type": "code",
      "metadata": {
        "colab": {
          "base_uri": "https://localhost:8080/"
        },
        "id": "5A6GSlNLEXXT",
        "outputId": "23adeaaa-d5bb-436c-ef82-dd306476a788"
      },
      "source": [
        "def sum(a,b):\n",
        "  \"\"\"\n",
        "  Return sum of two given numbers\n",
        "  \"\"\"\n",
        "  print(\"a = \",a,\" and b= \",b)\n",
        "  total = a+b\n",
        "  print(\"total = \",total)\n",
        "  return total\n",
        "\n",
        "n = sum(5,6) \n",
        "print(\"Total outside function = \",n)"
      ],
      "execution_count": 7,
      "outputs": [
        {
          "output_type": "stream",
          "text": [
            "a =  5  and b=  6\n",
            "total =  11\n",
            "Total outside function =  11\n"
          ],
          "name": "stdout"
        }
      ]
    },
    {
      "cell_type": "markdown",
      "metadata": {
        "id": "0MIIFmEsE1BF"
      },
      "source": [
        "Arguments are of two types\n",
        "1. Positional Arguments \n",
        "2. Named Arguments"
      ]
    },
    {
      "cell_type": "code",
      "metadata": {
        "colab": {
          "base_uri": "https://localhost:8080/"
        },
        "id": "cqrBwC6aFE9R",
        "outputId": "f47df6b8-2149-4eaf-e4ed-9dac47e9e72b"
      },
      "source": [
        "# positional arguments\n",
        "print(sum(5,6))\n",
        "\n",
        "#named argumnets\n",
        "print(sum(b=5,a=6))"
      ],
      "execution_count": 9,
      "outputs": [
        {
          "output_type": "stream",
          "text": [
            "a =  5  and b=  6\n",
            "total =  11\n",
            "11\n",
            "a =  6  and b=  5\n",
            "total =  11\n",
            "11\n"
          ],
          "name": "stdout"
        }
      ]
    },
    {
      "cell_type": "markdown",
      "metadata": {
        "id": "5CooJCjcFjy9"
      },
      "source": [
        "**Global varibales and local varibles**"
      ]
    },
    {
      "cell_type": "code",
      "metadata": {
        "colab": {
          "base_uri": "https://localhost:8080/"
        },
        "id": "qBsZdfY_FilM",
        "outputId": "7c7981fd-c701-4ed8-f9a4-0ecceda5c725"
      },
      "source": [
        "total = 0\n",
        "def sum(a,b):\n",
        "  \"\"\"\n",
        "  Return sum of two given numbers\n",
        "  \"\"\"\n",
        "  print(\"a = \",a,\" and b= \",b)\n",
        "  total = a+b\n",
        "  print(\"total inside a function = \",total)\n",
        "  return total\n",
        "\n",
        "n = sum(5,6) \n",
        "print(\"Total outside function = \",total)"
      ],
      "execution_count": 10,
      "outputs": [
        {
          "output_type": "stream",
          "text": [
            "a =  5  and b=  6\n",
            "total inside a function =  11\n",
            "Total outside function =  0\n"
          ],
          "name": "stdout"
        }
      ]
    },
    {
      "cell_type": "markdown",
      "metadata": {
        "id": "0rs3BhaHGDVO"
      },
      "source": [
        "So **total** variable inside function is different than **total** variable which is outside. Both are variables are not the one and same\n",
        "\n",
        "line 0: total varaible is gloabl variable \n",
        "\n",
        "inside function is local varibale"
      ]
    },
    {
      "cell_type": "code",
      "metadata": {
        "colab": {
          "base_uri": "https://localhost:8080/"
        },
        "id": "Tem_M5ugGTpD",
        "outputId": "87446843-f789-474a-db56-0299e81f0ca2"
      },
      "source": [
        "total = 0\n",
        "def sum(a,b):\n",
        "  \"\"\"\n",
        "  Return sum of two given numbers\n",
        "  \"\"\"\n",
        "  print(\"a=\",a,\" and b=\",b)\n",
        "  global total \n",
        "  total = a+b\n",
        "  print(\"total inside function = \",total)\n",
        "  return total\n",
        "\n",
        "n = sum(5,6) \n",
        "print(\"Total outside function = \",total)"
      ],
      "execution_count": 16,
      "outputs": [
        {
          "output_type": "stream",
          "text": [
            "a= 5  and b= 6\n",
            "total inside function =  11\n",
            "Total outside function =  11\n"
          ],
          "name": "stdout"
        }
      ]
    },
    {
      "cell_type": "markdown",
      "metadata": {
        "id": "KksHnCswHcds"
      },
      "source": [
        "**Default argument**"
      ]
    },
    {
      "cell_type": "code",
      "metadata": {
        "colab": {
          "base_uri": "https://localhost:8080/"
        },
        "id": "27pavtmVHi3o",
        "outputId": "352159c3-f0bc-4c7e-f3bc-b6d30e90b441"
      },
      "source": [
        "total = 0\n",
        "def sum(a,b=0):\n",
        "  \"\"\"\n",
        "  Return sum of two given numbers\n",
        "  \"\"\"\n",
        "  print(\"a=\",a,\" and b=\",b)\n",
        "  global total \n",
        "  total = a+b\n",
        "  print(\"total inside function = \",total)\n",
        "  return total\n",
        "\n",
        "n = sum(5) \n",
        "print(\"Total outside function = \",total)"
      ],
      "execution_count": 19,
      "outputs": [
        {
          "output_type": "stream",
          "text": [
            "a= 5  and b= 0\n",
            "total inside function =  5\n",
            "Total outside function =  5\n"
          ],
          "name": "stdout"
        }
      ]
    },
    {
      "cell_type": "markdown",
      "metadata": {
        "id": "0kwGzjdRPhFV"
      },
      "source": [
        "**Modules**\n",
        "\n",
        "Modules is a way to reuse a code written by someone else"
      ]
    },
    {
      "cell_type": "code",
      "metadata": {
        "colab": {
          "base_uri": "https://localhost:8080/"
        },
        "id": "XVG55Oz4Pi57",
        "outputId": "f5c2e7be-c303-4360-b0eb-2b895acfe508"
      },
      "source": [
        "import math\n",
        "print(math.sqrt(16))\n",
        "print(math.pow(2,5))"
      ],
      "execution_count": 21,
      "outputs": [
        {
          "output_type": "stream",
          "text": [
            "4.0\n",
            "32.0\n"
          ],
          "name": "stdout"
        }
      ]
    },
    {
      "cell_type": "code",
      "metadata": {
        "colab": {
          "base_uri": "https://localhost:8080/"
        },
        "id": "YtU4TNT4QbdO",
        "outputId": "d241dafa-ff87-4e49-95a2-6631b29630e2"
      },
      "source": [
        "dir(math) # to see all the function in math module"
      ],
      "execution_count": 22,
      "outputs": [
        {
          "output_type": "execute_result",
          "data": {
            "text/plain": [
              "['__doc__',\n",
              " '__loader__',\n",
              " '__name__',\n",
              " '__package__',\n",
              " '__spec__',\n",
              " 'acos',\n",
              " 'acosh',\n",
              " 'asin',\n",
              " 'asinh',\n",
              " 'atan',\n",
              " 'atan2',\n",
              " 'atanh',\n",
              " 'ceil',\n",
              " 'copysign',\n",
              " 'cos',\n",
              " 'cosh',\n",
              " 'degrees',\n",
              " 'e',\n",
              " 'erf',\n",
              " 'erfc',\n",
              " 'exp',\n",
              " 'expm1',\n",
              " 'fabs',\n",
              " 'factorial',\n",
              " 'floor',\n",
              " 'fmod',\n",
              " 'frexp',\n",
              " 'fsum',\n",
              " 'gamma',\n",
              " 'gcd',\n",
              " 'hypot',\n",
              " 'inf',\n",
              " 'isclose',\n",
              " 'isfinite',\n",
              " 'isinf',\n",
              " 'isnan',\n",
              " 'ldexp',\n",
              " 'lgamma',\n",
              " 'log',\n",
              " 'log10',\n",
              " 'log1p',\n",
              " 'log2',\n",
              " 'modf',\n",
              " 'nan',\n",
              " 'pi',\n",
              " 'pow',\n",
              " 'radians',\n",
              " 'remainder',\n",
              " 'sin',\n",
              " 'sinh',\n",
              " 'sqrt',\n",
              " 'tan',\n",
              " 'tanh',\n",
              " 'tau',\n",
              " 'trunc']"
            ]
          },
          "metadata": {
            "tags": []
          },
          "execution_count": 22
        }
      ]
    },
    {
      "cell_type": "code",
      "metadata": {
        "colab": {
          "base_uri": "https://localhost:8080/"
        },
        "id": "6jOsNLEfQqdj",
        "outputId": "3928541e-e398-4e61-abba-1fd6bf7d2b60"
      },
      "source": [
        "math.pi"
      ],
      "execution_count": 23,
      "outputs": [
        {
          "output_type": "execute_result",
          "data": {
            "text/plain": [
              "3.141592653589793"
            ]
          },
          "metadata": {
            "tags": []
          },
          "execution_count": 23
        }
      ]
    },
    {
      "cell_type": "code",
      "metadata": {
        "id": "CT5d1Ai2Qtaz"
      },
      "source": [
        "import calendar"
      ],
      "execution_count": 24,
      "outputs": []
    },
    {
      "cell_type": "code",
      "metadata": {
        "colab": {
          "base_uri": "https://localhost:8080/"
        },
        "id": "7CFxmJvfQ3CS",
        "outputId": "ca6aabd3-d139-4dd3-99ee-b79ea3c703fe"
      },
      "source": [
        "cal = calendar.month(2021,5)\n",
        "print(cal)"
      ],
      "execution_count": 25,
      "outputs": [
        {
          "output_type": "stream",
          "text": [
            "      May 2021\n",
            "Mo Tu We Th Fr Sa Su\n",
            "                1  2\n",
            " 3  4  5  6  7  8  9\n",
            "10 11 12 13 14 15 16\n",
            "17 18 19 20 21 22 23\n",
            "24 25 26 27 28 29 30\n",
            "31\n",
            "\n"
          ],
          "name": "stdout"
        }
      ]
    }
  ]
}