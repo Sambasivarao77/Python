{
  "nbformat": 4,
  "nbformat_minor": 0,
  "metadata": {
    "colab": {
      "name": "Comprehensions_list_set_dict.ipynb",
      "provenance": [],
      "authorship_tag": "ABX9TyPa/zXPGMFdSSSWxTEOleV9",
      "include_colab_link": true
    },
    "kernelspec": {
      "name": "python3",
      "display_name": "Python 3"
    },
    "language_info": {
      "name": "python"
    }
  },
  "cells": [
    {
      "cell_type": "markdown",
      "metadata": {
        "id": "view-in-github",
        "colab_type": "text"
      },
      "source": [
        "<a href=\"https://colab.research.google.com/github/Sambasivarao77/Python/blob/main/Comprehensions_list_set_dict.ipynb\" target=\"_parent\"><img src=\"https://colab.research.google.com/assets/colab-badge.svg\" alt=\"Open In Colab\"/></a>"
      ]
    },
    {
      "cell_type": "markdown",
      "metadata": {
        "id": "qhmIk_qHMLus"
      },
      "source": [
        "**List Comprehension**"
      ]
    },
    {
      "cell_type": "code",
      "metadata": {
        "colab": {
          "base_uri": "https://localhost:8080/"
        },
        "id": "0paUUomOMC_4",
        "outputId": "36cd4d99-8a6a-44bb-c04d-90b3b8fb3bc6"
      },
      "source": [
        "#without using comprehension\n",
        "numbers = [1,2,3,4,5,6,7,8,9,10]\n",
        "#find even numbers from the numbers\n",
        "even = []\n",
        "for i in numbers:\n",
        "  if i%2==0:\n",
        "    even.append(i)\n",
        "\n",
        "print(even)"
      ],
      "execution_count": 1,
      "outputs": [
        {
          "output_type": "stream",
          "text": [
            "[2, 4, 6, 8, 10]\n"
          ],
          "name": "stdout"
        }
      ]
    },
    {
      "cell_type": "code",
      "metadata": {
        "colab": {
          "base_uri": "https://localhost:8080/"
        },
        "id": "gNDfXHltMqtT",
        "outputId": "b29ddbe0-71e3-4d16-ac98-a6f555066e52"
      },
      "source": [
        "#with comprehension\n",
        "even_comp = [i for i in numbers if i%2==0]\n",
        "print(even_comp)"
      ],
      "execution_count": 3,
      "outputs": [
        {
          "output_type": "stream",
          "text": [
            "[2, 4, 6, 8, 10]\n"
          ],
          "name": "stdout"
        }
      ]
    },
    {
      "cell_type": "code",
      "metadata": {
        "colab": {
          "base_uri": "https://localhost:8080/"
        },
        "id": "-6stjAxmM8K9",
        "outputId": "bea62c68-d637-4d8b-cff7-b9922d27a4db"
      },
      "source": [
        "square = [i*i for i in numbers]\n",
        "print(square)"
      ],
      "execution_count": 4,
      "outputs": [
        {
          "output_type": "stream",
          "text": [
            "[1, 4, 9, 16, 25, 36, 49, 64, 81, 100]\n"
          ],
          "name": "stdout"
        }
      ]
    },
    {
      "cell_type": "markdown",
      "metadata": {
        "id": "6yExgAxmNG_y"
      },
      "source": [
        "**Set comprehension**"
      ]
    },
    {
      "cell_type": "code",
      "metadata": {
        "colab": {
          "base_uri": "https://localhost:8080/"
        },
        "id": "KxWE52gzNb1C",
        "outputId": "e64dd777-c3ac-485c-fcea-fc29e90a30a6"
      },
      "source": [
        "numbers = [1,2,3,4,5,6,7,1,2]\n",
        "s = set(numbers)\n",
        "print(s)"
      ],
      "execution_count": 5,
      "outputs": [
        {
          "output_type": "stream",
          "text": [
            "{1, 2, 3, 4, 5, 6, 7}\n"
          ],
          "name": "stdout"
        }
      ]
    },
    {
      "cell_type": "code",
      "metadata": {
        "colab": {
          "base_uri": "https://localhost:8080/"
        },
        "id": "R-dBk3bUNjHb",
        "outputId": "fff6f6ad-699c-4e48-d52d-c71bf39a0f18"
      },
      "source": [
        "even_from_set = {i for i in s if i%2 == 0}\n",
        "print(even_from_set)"
      ],
      "execution_count": 7,
      "outputs": [
        {
          "output_type": "stream",
          "text": [
            "{2, 4, 6}\n"
          ],
          "name": "stdout"
        }
      ]
    },
    {
      "cell_type": "markdown",
      "metadata": {
        "id": "icev1OnYNwmQ"
      },
      "source": [
        "**Dict comprehension**"
      ]
    },
    {
      "cell_type": "code",
      "metadata": {
        "colab": {
          "base_uri": "https://localhost:8080/"
        },
        "id": "alK2nsf-Nz79",
        "outputId": "5d3a9f00-3602-4171-9080-6b025f13715f"
      },
      "source": [
        "cities = [\"Hyderabad\",\"New york\",\"Paris\",\"Jerusalem\"]\n",
        "countries = [\"India\",\"USA\",\"France\",\"Israel\"]\n",
        "z = zip(cities,countries)\n",
        "print(z)\n",
        "for a in z:\n",
        "  print(a)"
      ],
      "execution_count": 8,
      "outputs": [
        {
          "output_type": "stream",
          "text": [
            "<zip object at 0x7fb55e41c140>\n",
            "('Hyderabad', 'India')\n",
            "('New york', 'USA')\n",
            "('Paris', 'France')\n",
            "('Jerusalem', 'Israel')\n"
          ],
          "name": "stdout"
        }
      ]
    },
    {
      "cell_type": "code",
      "metadata": {
        "colab": {
          "base_uri": "https://localhost:8080/"
        },
        "id": "pD4xOGbrO7DY",
        "outputId": "fd6d3b70-74e9-4d6d-9a83-a53538a48ddb"
      },
      "source": [
        "#comprehension\n",
        "d = {city:country for city,country in zip(cities,countries)}\n",
        "print(d)"
      ],
      "execution_count": 10,
      "outputs": [
        {
          "output_type": "stream",
          "text": [
            "{'Hyderabad': 'India', 'New york': 'USA', 'Paris': 'France', 'Jerusalem': 'Israel'}\n"
          ],
          "name": "stdout"
        }
      ]
    }
  ]
}