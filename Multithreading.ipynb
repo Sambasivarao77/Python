{
  "nbformat": 4,
  "nbformat_minor": 0,
  "metadata": {
    "colab": {
      "name": "Multithreading.ipynb",
      "provenance": [],
      "authorship_tag": "ABX9TyMUOMl6eP4tDhzk9TZqykPF",
      "include_colab_link": true
    },
    "kernelspec": {
      "name": "python3",
      "display_name": "Python 3"
    },
    "language_info": {
      "name": "python"
    }
  },
  "cells": [
    {
      "cell_type": "markdown",
      "metadata": {
        "id": "view-in-github",
        "colab_type": "text"
      },
      "source": [
        "<a href=\"https://colab.research.google.com/github/Sambasivarao77/Python/blob/main/Multithreading.ipynb\" target=\"_parent\"><img src=\"https://colab.research.google.com/assets/colab-badge.svg\" alt=\"Open In Colab\"/></a>"
      ]
    },
    {
      "cell_type": "code",
      "metadata": {
        "colab": {
          "base_uri": "https://localhost:8080/"
        },
        "id": "9F5lZr7zvtob",
        "outputId": "99d40e3e-fcee-4002-e6b3-5027761b46a8"
      },
      "source": [
        "import time\n",
        "\n",
        "def calc_squares(numbers):\n",
        "  print(\"calculate squares \")\n",
        "  for number in numbers:\n",
        "    time.sleep(0.2)\n",
        "    print(number*number,end=\" \")\n",
        "  return\n",
        "\n",
        "def calc_cubes(numbers):\n",
        "  print(\"\\ncalculate cubes\")\n",
        "  for number in numbers:\n",
        "    time.sleep(0.2)\n",
        "    print(number*number*number,end=\" \")\n",
        "\n",
        "t = time.time()\n",
        "numbers = range(1,20)\n",
        "calc_squares(numbers)\n",
        "calc_cubes(numbers)\n",
        "print(\"\\ncompleted jobs in \",time.time()-t)"
      ],
      "execution_count": null,
      "outputs": [
        {
          "output_type": "stream",
          "text": [
            "calculate squares \n",
            "1 4 9 16 25 36 49 64 81 100 121 144 169 196 225 256 289 324 361 \n",
            "calculate cubes\n",
            "1 8 27 64 125 216 343 512 729 1000 1331 1728 2197 2744 3375 4096 4913 5832 6859 \n",
            "completed jobs in  7.621074676513672\n"
          ],
          "name": "stdout"
        }
      ]
    },
    {
      "cell_type": "markdown",
      "metadata": {
        "id": "Zxfx2uT2yoF5"
      },
      "source": [
        "**With multithreading**"
      ]
    },
    {
      "cell_type": "code",
      "metadata": {
        "colab": {
          "base_uri": "https://localhost:8080/"
        },
        "id": "e5Aekn1cym9N",
        "outputId": "ff9bb766-1b15-49c0-e1fd-1f4aca3a7cd2"
      },
      "source": [
        "import time\n",
        "import threading\n",
        "\n",
        "def calc_squares(numbers):\n",
        "  print(\"calculate squares \")\n",
        "  for number in numbers:\n",
        "    time.sleep(0.2)\n",
        "    print(number*number)\n",
        "  return\n",
        "\n",
        "def calc_cubes(numbers):\n",
        "  print(\"\\ncalculate cubes\")\n",
        "  for number in numbers:\n",
        "    time.sleep(0.2)\n",
        "    print(number*number*number)\n",
        "\n",
        "t = time.time()\n",
        "numbers = range(1,20)\n",
        "t1 = threading.Thread(target=calc_squares,args=(numbers,))\n",
        "t2 = threading.Thread(target=calc_cubes,args=(numbers,))\n",
        "t1.start()\n",
        "t2.start()\n",
        "t1.join()\n",
        "t2.join()\n",
        "print(\"\\ncompleted jobs in \",time.time()-t)"
      ],
      "execution_count": null,
      "outputs": [
        {
          "output_type": "stream",
          "text": [
            "calculate squares \n",
            "calculate cubes\n",
            "\n",
            "1\n",
            "1\n",
            "8\n",
            "4\n",
            "27\n",
            "9\n",
            "64\n",
            "16\n",
            "125\n",
            "25\n",
            "216\n",
            "36\n",
            "343\n",
            "49\n",
            "512\n",
            "64\n",
            "729\n",
            "81\n",
            "1000\n",
            "100\n",
            "1331\n",
            "121\n",
            "1728\n",
            "144\n",
            "2197\n",
            "169\n",
            "2744\n",
            "196\n",
            "3375\n",
            "225\n",
            "4096\n",
            "256\n",
            "4913\n",
            "289\n",
            "5832\n",
            "324\n",
            "6859\n",
            "361\n",
            "\n",
            "completed jobs in  3.814192056655884\n"
          ],
          "name": "stdout"
        }
      ]
    },
    {
      "cell_type": "markdown",
      "metadata": {
        "id": "09zr7Bw8zinP"
      },
      "source": [
        "**Exercise**"
      ]
    },
    {
      "cell_type": "code",
      "metadata": {
        "colab": {
          "base_uri": "https://localhost:8080/"
        },
        "id": "g1W0rqSszqzT",
        "outputId": "d21e46fc-5221-45ee-b69c-574840b8b2f6"
      },
      "source": [
        "import time\n",
        "import threading\n",
        "\n",
        "def sleeping(i):\n",
        "  print(\"Thread %i will sleep. \" %i)\n",
        "  time.sleep(1)\n",
        "  print(\"Thread %i is active. \" %i)\n",
        "  return\n",
        "\n",
        "for i in range(10):\n",
        "  th = threading.Thread(target=sleeping,args=(i,))\n",
        "  th.start()\n",
        "  print(\"current threads : %i\"%threading.active_count())\n",
        "\n",
        "time.sleep(10)\n",
        "print(\"current threads : %i\"%threading.active_count())\n"
      ],
      "execution_count": 17,
      "outputs": [
        {
          "output_type": "stream",
          "text": [
            "Thread 0 will sleep. \n",
            "current threads : 10\n",
            "Thread 1 will sleep. current threads : 11\n",
            "\n",
            "Thread 2 will sleep. current threads : 12\n",
            "Thread 3 will sleep. \n",
            "current threads : 13\n",
            "\n",
            "Thread 4 will sleep. \n",
            "current threads : 14\n",
            "Thread 5 will sleep. \n",
            "current threads : 15\n",
            "Thread 6 will sleep. \n",
            "current threads : 16\n",
            "Thread 7 will sleep. current threads : 17\n",
            "\n",
            "Thread 8 will sleep. \n",
            "current threads : 18\n",
            "Thread 9 will sleep. \n",
            "current threads : 19\n",
            "Thread 0 is active. \n",
            "Thread 1 is active. \n",
            "Thread 3 is active. \n",
            "Thread 2 is active. \n",
            "Thread 4 is active. \n",
            "Thread 5 is active. \n",
            "Thread 6 is active. \n",
            "Thread 7 is active. \n",
            "Thread 9 is active. Thread 8 is active. \n",
            "\n",
            "current threads : 9\n"
          ],
          "name": "stdout"
        }
      ]
    }
  ]
}