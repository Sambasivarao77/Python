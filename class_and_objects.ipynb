{
  "nbformat": 4,
  "nbformat_minor": 0,
  "metadata": {
    "colab": {
      "name": "class_and_objects.ipynb",
      "provenance": [],
      "authorship_tag": "ABX9TyNMFtxfneiN+VXb/4NwFosX",
      "include_colab_link": true
    },
    "kernelspec": {
      "name": "python3",
      "display_name": "Python 3"
    },
    "language_info": {
      "name": "python"
    }
  },
  "cells": [
    {
      "cell_type": "markdown",
      "metadata": {
        "id": "view-in-github",
        "colab_type": "text"
      },
      "source": [
        "<a href=\"https://colab.research.google.com/github/Sambasivarao77/Python/blob/main/class_and_objects.ipynb\" target=\"_parent\"><img src=\"https://colab.research.google.com/assets/colab-badge.svg\" alt=\"Open In Colab\"/></a>"
      ]
    },
    {
      "cell_type": "markdown",
      "metadata": {
        "id": "Sj2lyU23eTeO"
      },
      "source": [
        "**Class**  \n",
        "Varibales are called properties of the class  \n",
        "Functions are called methods  \n",
        "\n",
        "**Object**  \n",
        "Object is a specific instance of a class"
      ]
    },
    {
      "cell_type": "code",
      "metadata": {
        "colab": {
          "base_uri": "https://localhost:8080/"
        },
        "id": "w0m5KxXqd9jS",
        "outputId": "e52c3581-6c87-437d-881d-60d3028c175f"
      },
      "source": [
        "class Human:\n",
        "  def __init__(self,n,o):\n",
        "    self.name = n\n",
        "    self.occupation = o\n",
        "  \n",
        "  def do_work(self):\n",
        "    if self.occupation == \"tennis player\":\n",
        "      print(self.name,\" plays tennis\")\n",
        "    elif self.occupation == \"actor\":\n",
        "      print(self.name, \"shoots a film\")\n",
        "  \n",
        "  def speak(self):\n",
        "    print(self.name,\" says how are you? \")\n",
        "\n",
        "tom = Human(\"tom\",\"actor\")\n",
        "bom = Human(\"bom\",\"tennis player\")\n",
        "\n",
        "tom.do_work()\n",
        "tom.speak()\n",
        "print()\n",
        "bom.do_work()\n",
        "bom.speak()"
      ],
      "execution_count": 8,
      "outputs": [
        {
          "output_type": "stream",
          "text": [
            "tom shoots a film\n",
            "tom  says how are you? \n",
            "\n",
            "bom  plays tennis\n",
            "bom  says how are you? \n"
          ],
          "name": "stdout"
        }
      ]
    }
  ]
}